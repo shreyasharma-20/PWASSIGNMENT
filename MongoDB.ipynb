{
 "cells": [
  {
   "cell_type": "markdown",
   "id": "9d84fa1a-0b78-469e-8d72-bc60429fe890",
   "metadata": {},
   "source": [
    "## MongoDB Assignment"
   ]
  },
  {
   "cell_type": "code",
   "execution_count": null,
   "id": "abfc752d-3d02-4b18-b176-c17f5782bf6b",
   "metadata": {},
   "outputs": [],
   "source": []
  },
  {
   "cell_type": "markdown",
   "id": "12a6fca5-8f4e-4cd0-84fd-1e6bf3d30350",
   "metadata": {},
   "source": [
    "## Theoretical Questions"
   ]
  },
  {
   "cell_type": "code",
   "execution_count": null,
   "id": "77e67923-e084-43e9-b8f9-2421e86b68cb",
   "metadata": {},
   "outputs": [],
   "source": []
  },
  {
   "cell_type": "markdown",
   "id": "561524b5-6a03-4638-95a0-0088af94534f",
   "metadata": {},
   "source": [
    "Q1. What are the key differences between SQL and NoSQL databases ?"
   ]
  },
  {
   "cell_type": "markdown",
   "id": "b5d8ad27-5e1a-4b5e-b479-f83f9d691c81",
   "metadata": {},
   "source": [
    "<img src = 'Ans1.png'>"
   ]
  },
  {
   "cell_type": "code",
   "execution_count": null,
   "id": "08c7c7dd-82db-4743-96f9-d6a84b14c28a",
   "metadata": {},
   "outputs": [],
   "source": []
  },
  {
   "cell_type": "markdown",
   "id": "c251c461-23eb-4a1a-962d-7c14cd180717",
   "metadata": {},
   "source": [
    "Q2. What makes MongoDB a good choice for modern applications ?"
   ]
  },
  {
   "cell_type": "markdown",
   "id": "35bdbe0c-cfb7-4a1c-8f00-fcfda8157921",
   "metadata": {},
   "source": [
    "MongoDB is a great choice for modern applications because of its:\n",
    "\n",
    "1. Flexible Schema – It stores data in a JSON-like format (BSON), allowing dynamic fields and easy schema evolution without complex migrations.\n",
    "\n",
    "2. High Scalability – Supports horizontal scaling using sharding, enabling applications to handle large volumes of data and traffic efficiently.\n",
    "\n",
    "3. Fast Performance – Uses indexing, in-memory storage, and optimized queries to ensure high-speed read and write operations.\n",
    "\n",
    "4. Cloud-Native & Distributed – Works seamlessly with cloud platforms (MongoDB Atlas), ensuring high availability, automatic backups, and easy scaling.\n",
    "\n",
    "This makes MongoDB perfect for real-time analytics, IoT, content management, and scalable web applications"
   ]
  },
  {
   "cell_type": "code",
   "execution_count": null,
   "id": "19a8b45a-621f-4d9e-86c5-5c6419f9b2cb",
   "metadata": {},
   "outputs": [],
   "source": []
  },
  {
   "cell_type": "markdown",
   "id": "e5b0958c-ec4c-4c8e-bfd4-93da8efe493e",
   "metadata": {},
   "source": [
    "Q3. Explain the concept of collections in MongoDB."
   ]
  },
  {
   "cell_type": "markdown",
   "id": "4e7e8966-7d0c-4509-8de1-07eb84bf8db3",
   "metadata": {},
   "source": [
    "Collections in MongoDB\n",
    "\n",
    "In MongoDB, a collection is a group of documents, similar to a table in relational databases. However, unlike tables, collections in MongoDB:\n",
    "\n",
    "1. Do Not Have a Fixed Schema – Documents in a collection can have different fields, allowing flexibility.\n",
    "\n",
    "2. Store Data as BSON Documents – Each document is in JSON-like format, making it easy to store and retrieve data.\n",
    "\n",
    "3. Are Automatically Created – Collections are created when a document is inserted, without needing predefined structures."
   ]
  },
  {
   "cell_type": "code",
   "execution_count": null,
   "id": "6a8c93e0-b96e-4cbe-9c1f-25095b9677fa",
   "metadata": {},
   "outputs": [],
   "source": []
  },
  {
   "cell_type": "markdown",
   "id": "aaf0c6b8-be8b-499a-b56b-c66704611987",
   "metadata": {},
   "source": [
    "Q4. How does MongoDB ensure high availability using replication ?"
   ]
  },
  {
   "cell_type": "markdown",
   "id": "d6ab6edf-f966-4057-947d-aef8f80b9c70",
   "metadata": {},
   "source": [
    "MongoDB ensures high availability using replication, specifically through Replica Sets. A Replica Set is a group of MongoDB instances that maintain the same data to provide redundancy and failover capabilities. Here's how it works:\n",
    "\n",
    "1. Primary-Secondary Architecture\n",
    "A Replica Set consists of:\n",
    "Primary Node: Handles all write and read operations (unless secondary reads are enabled).\n",
    "Secondary Nodes: Maintain copies of the primary’s data via replication.\n",
    "Arbiter (Optional): Helps in elections but does not store data.\n",
    "\n",
    "2. Automatic Failover\n",
    "If the primary node goes down, MongoDB automatically elects a new primary from the secondaries.\n",
    "The election process takes a few seconds (usually less than 12 seconds).\n",
    "Once a new primary is elected, applications can resume operations with minimal downtime.\n",
    "\n",
    "\n",
    "3. Data Redundancy and Synchronization\n",
    "The primary node continuously streams data changes to secondaries via oplogs (operations logs).\n",
    "Secondaries apply these operations in the same order to stay synchronized.\n",
    "If a secondary falls behind, it can perform rollback and resynchronization."
   ]
  },
  {
   "cell_type": "code",
   "execution_count": null,
   "id": "c7b45050-7b96-43ab-aff4-eda9a44e0e1d",
   "metadata": {},
   "outputs": [],
   "source": []
  },
  {
   "cell_type": "markdown",
   "id": "9f67e4f1-e247-4bf7-ac27-c393abd1207a",
   "metadata": {},
   "source": [
    "Q5. What are the main benefits of MongoDB Atlas ?"
   ]
  },
  {
   "cell_type": "markdown",
   "id": "c278caec-8c8c-4fb9-88a9-67920d109fd9",
   "metadata": {},
   "source": [
    "MongoDB Atlas offers several key benefits, including:\n",
    "\n",
    "1. Fully Managed Service – It automates database deployment, scaling, and maintenance, reducing operational overhead.\n",
    "\n",
    "2. Scalability – Supports auto-scaling and sharding to handle growing workloads efficiently.\n",
    "\n",
    "3. High Availability – Provides built-in redundancy and failover with multi-region replication.\n",
    "\n",
    "4. Security – Features encryption, role-based access control (RBAC), and compliance with industry standards like GDPR and HIPAA.\n",
    "\n",
    "5. Performance Optimization – Includes automated performance monitoring, indexing suggestions, and workload optimization tools.\n",
    "\n",
    "6. Multi-Cloud Support – Allows deployment across AWS, Azure, or Google Cloud for flexibility and resilience.\n",
    "\n"
   ]
  },
  {
   "cell_type": "code",
   "execution_count": null,
   "id": "da332a0b-30f0-460e-9668-3e44c71b762c",
   "metadata": {},
   "outputs": [],
   "source": []
  },
  {
   "cell_type": "markdown",
   "id": "6296637f-e041-4180-a91f-7493c35f9e82",
   "metadata": {},
   "source": [
    "Q6. What is the role of indexes in MongoDB, and how do they improve performance ?"
   ]
  },
  {
   "cell_type": "markdown",
   "id": "ecf0ff7b-0a0c-43ec-bef4-a7ffdcef95a3",
   "metadata": {},
   "source": [
    "Role of Indexes in MongoDB:\n",
    "\n",
    "Indexes in MongoDB play a crucial role in improving query performance by enabling efficient data retrieval. Without indexes, MongoDB must scan every document in a collection to fulfill a query, which is slow for large datasets.\n",
    "\n",
    "How Indexes Improve Performance:\n",
    "\n",
    "1. Faster Query Execution – Indexes allow MongoDB to locate documents quickly without scanning the entire collection.\n",
    "   \n",
    "2. Efficient Sorting – Queries with sort() perform better when indexed fields are used.\n",
    "\n",
    "3. Optimized Filtering – Queries with indexed fields reduce the number of documents MongoDB needs to inspect.\n",
    "\n",
    "4. Supports Unique Constraints – Unique indexes ensure data integrity by preventing duplicate values in a field.\n",
    "\n",
    "5. Improved Aggregation Performance – Indexes speed up aggregation pipelines by reducing the amount of data processed."
   ]
  },
  {
   "cell_type": "code",
   "execution_count": null,
   "id": "be417bd1-5ffc-44e6-b44b-bffdd11a49b8",
   "metadata": {},
   "outputs": [],
   "source": []
  },
  {
   "cell_type": "markdown",
   "id": "8e3948b0-ae50-4cb3-985f-e10b66486d32",
   "metadata": {},
   "source": [
    "Q7. Describe the stages of the MongoDB aggregation pipeline."
   ]
  },
  {
   "cell_type": "markdown",
   "id": "cc9e00b0-2597-4c69-b206-2c78e6bbd7e9",
   "metadata": {},
   "source": [
    "The MongoDB aggregation pipeline processes data through multiple stages to transform and analyze documents efficiently. Key stages include:\n",
    "\n",
    "$match (filters documents)\n",
    "\n",
    "$group (aggregates data)\n",
    "\n",
    "$project (reshapes documents)\n",
    "\n",
    "$sort (orders results)\n",
    "\n",
    "$unwind (splits arrays into multiple documents)\n",
    "\n",
    "$lookup (performs joins)\n",
    "\n",
    "$out (writes results to a collection)\n",
    "\n",
    "$addFields (adds computed fields)\n",
    "\n",
    "These stages can be combined for powerful data processing and analytics."
   ]
  },
  {
   "cell_type": "code",
   "execution_count": null,
   "id": "1249660d-0f2b-4f19-8f94-89a8fb8adcc8",
   "metadata": {},
   "outputs": [],
   "source": []
  },
  {
   "cell_type": "markdown",
   "id": "4838d6e8-7225-454c-951d-af19967d0351",
   "metadata": {},
   "source": [
    "Q8. What is sharding in MongoDB? How does it differ from replication ?"
   ]
  },
  {
   "cell_type": "markdown",
   "id": "344719ee-7d34-42a0-9e32-e764ace60ed1",
   "metadata": {},
   "source": [
    "Sharding is a method of distributing data across multiple servers to handle large datasets and high throughput. It ensures horizontal scalability by partitioning data into smaller, more manageable pieces (shards).\n",
    "\n",
    "Uses a shard key to determine how data is distributed.\n",
    "\n",
    "Each shard stores only a subset of the data.\n",
    "\n",
    "A mongos router directs queries to the correct shard(s)."
   ]
  },
  {
   "cell_type": "markdown",
   "id": "ebdec6fc-27c0-419c-8df0-2e222008392d",
   "metadata": {},
   "source": [
    "<img src = 'Ans.png'>"
   ]
  },
  {
   "cell_type": "code",
   "execution_count": null,
   "id": "2c5e6c4a-771b-4e16-9c48-9aaa8059036a",
   "metadata": {},
   "outputs": [],
   "source": []
  },
  {
   "cell_type": "markdown",
   "id": "640a0877-2d07-4c2a-939a-6f2393d9eb52",
   "metadata": {},
   "source": [
    "Q9. What is PyMongo, and why is it used ?"
   ]
  },
  {
   "cell_type": "markdown",
   "id": "94072087-e982-4c43-bcb9-f024bc4864da",
   "metadata": {},
   "source": [
    "PyMongo is the official Python driver for MongoDB, allowing Python applications to interact with MongoDB databases. It provides an interface to perform CRUD operations (Create, Read, Update, Delete), run aggregation pipelines, and manage collections.\n",
    "\n",
    "Why is PyMongo Used?\n",
    "\n",
    "1. Database Connectivity – Enables Python applications to connect to MongoDB.\n",
    "\n",
    "2. Easy CRUD Operations – Simplifies inserting, querying, updating, and deleting documents.\n",
    "\n",
    "\n",
    "3. Aggregation Support – Allows running MongoDB aggregation pipelines.\n",
    "\n",
    "\n",
    "4. Index Management – Helps create and manage indexes for performance optimization.\n",
    "\n",
    "\n",
    "5. Scalability & Replication Support – Works with sharded clusters and replica sets."
   ]
  },
  {
   "cell_type": "code",
   "execution_count": null,
   "id": "37db2b88-803e-4b4a-b3b0-4b6dc30ac3b6",
   "metadata": {},
   "outputs": [],
   "source": []
  },
  {
   "cell_type": "markdown",
   "id": "564f4e4e-3dd7-4f7a-810e-0c7837b8f18e",
   "metadata": {},
   "source": [
    " Q10. What are the ACID properties in the context of MongoDB transactions ?"
   ]
  },
  {
   "cell_type": "markdown",
   "id": "ee55d06c-f331-4b7b-9779-81000bef0a31",
   "metadata": {},
   "source": [
    "In the context of MongoDB transactions, the ACID properties ensure data integrity and consistency. ACID stands for:\n",
    "\n",
    "Atomicity: A transaction is treated as a single unit—either all operations within the transaction succeed, or none of them are applied. If an error occurs, MongoDB rolls back the transaction.\n",
    "\n",
    "Consistency: The database remains in a valid state before and after the transaction. Any changes made within a transaction must adhere to the schema and validation rules of the database.\n",
    "\n",
    "Isolation: Transactions execute independently, ensuring that intermediate changes are not visible to other operations until the transaction is committed. In MongoDB, transactions follow snapshot isolation, meaning they use a consistent view of the data when executing.\n",
    "\n",
    "Durability: Once a transaction is committed, changes are permanently saved in the database, even if there is a system crash or failure. MongoDB achieves this by writing data to the journal before confirming the commit."
   ]
  },
  {
   "cell_type": "code",
   "execution_count": null,
   "id": "dace78fe-e7a1-411e-a1d7-ca25098d6133",
   "metadata": {},
   "outputs": [],
   "source": []
  },
  {
   "cell_type": "markdown",
   "id": "beecec06-df4e-490e-8250-82211ba95976",
   "metadata": {},
   "source": [
    "Q11. What is the purpose of MongoDB’s explain() function ?"
   ]
  },
  {
   "cell_type": "markdown",
   "id": "9e9fc2f7-56ea-437b-a33a-9343fb6d6f34",
   "metadata": {},
   "source": [
    "MongoDB’s explain() function is used to analyze how a query is executed, helping developers and database administrators optimize performance. It provides insights into how MongoDB processes a query by detailing aspects such as:\n",
    "\n",
    "Query Execution Plan: Shows whether an index was used, if a collection scan occurred, or how many documents were examined.\n",
    "\n",
    "Execution Time: Helps in understanding query efficiency by displaying the time taken for execution.\n",
    "\n",
    "Index Usage: Indicates whether an index was used and which one, aiding in performance tuning."
   ]
  },
  {
   "cell_type": "code",
   "execution_count": null,
   "id": "0a73bccb-c551-4551-adb1-ac741b0a3a2a",
   "metadata": {},
   "outputs": [],
   "source": []
  },
  {
   "cell_type": "markdown",
   "id": "405b18ab-ba83-4080-93af-f50b28a598c8",
   "metadata": {},
   "source": [
    "Q12. How does MongoDB handle schema validation ?"
   ]
  },
  {
   "cell_type": "markdown",
   "id": "0c2ef924-2b26-4140-bb04-1e0179c7ea2a",
   "metadata": {},
   "source": [
    "Schema Validation in MongoDB\n",
    "\n",
    "MongoDB is a schema-less database, but it allows schema validation to enforce data integrity within collections. Schema validation is implemented using JSON Schema rules at the collection level.\n",
    "\n",
    "Key Features of Schema Validation:\n",
    "\n",
    "Ensures data consistency by defining rules for document structure.\n",
    "\n",
    "Applies validation rules at the time of insert and update operations.\n",
    "\n",
    "Uses BSON types (e.g., string, number, object, etc.).\n"
   ]
  },
  {
   "cell_type": "code",
   "execution_count": null,
   "id": "0b136b03-aa85-4962-9c3c-4a4839e6de6d",
   "metadata": {},
   "outputs": [],
   "source": []
  },
  {
   "cell_type": "markdown",
   "id": "dc5e59e7-f732-4700-92d0-ba0636f056a2",
   "metadata": {},
   "source": [
    "Q13. What is the difference between a primary and a secondary node in a replica set ?"
   ]
  },
  {
   "cell_type": "markdown",
   "id": "521daafc-3c2a-4efb-86da-a09a6449ac07",
   "metadata": {},
   "source": [
    "<img src = 'A.png'>"
   ]
  },
  {
   "cell_type": "code",
   "execution_count": null,
   "id": "9dbe8cd5-93ff-4f74-9f7e-a76d3dbc1a72",
   "metadata": {},
   "outputs": [],
   "source": []
  },
  {
   "cell_type": "markdown",
   "id": "b755a868-76cc-446d-9bd0-d1bd814f79f6",
   "metadata": {},
   "source": [
    "Q14. What security mechanisms does MongoDB provide for data protection ?"
   ]
  },
  {
   "cell_type": "markdown",
   "id": "8be959f6-9c02-4d51-927f-3f4d7e17ac5d",
   "metadata": {},
   "source": [
    "MongoDB Security Mechanisms\n",
    "\n",
    "1. Authentication – Verifies users using SCRAM, X.509, LDAP, or Kerberos.\n",
    "   \n",
    "2. Authorization (RBAC) – Controls user permissions with role-based access control.\n",
    "\n",
    "3. TLS/SSL Encryption – Secures data in transit between clients and servers.\n",
    "\n",
    "4. Encryption at Rest – Protects stored data using WiredTiger encryption.\n",
    "\n",
    "5. Firewall & IP Whitelisting – Restricts database access to trusted IPs.\n",
    "\n",
    "6. Audit Logging – Tracks database events and user actions for security monitoring.\n",
    "\n",
    "7. Backup & Recovery – Ensures data protection using replication, snapshots, and backups."
   ]
  },
  {
   "cell_type": "code",
   "execution_count": null,
   "id": "d2653985-5371-431f-b4bd-e73b3ac901ca",
   "metadata": {},
   "outputs": [],
   "source": []
  },
  {
   "cell_type": "markdown",
   "id": "7a593ae8-c4ec-4d30-8b58-da49938e3751",
   "metadata": {},
   "source": [
    "Q15. Explain the concept of embedded documents and when they should be used."
   ]
  },
  {
   "cell_type": "markdown",
   "id": "72570f11-1f49-43a8-a161-415b0b9f3b79",
   "metadata": {},
   "source": [
    "In MongoDB, embedded documents (also called nested documents) allow storing related data within a single document instead of using separate collections and references. This follows a denormalized approach, improving performance by reducing the need for joins."
   ]
  },
  {
   "cell_type": "markdown",
   "id": "47b639a1-4cc3-41cf-88c9-6878d6e57176",
   "metadata": {},
   "source": [
    "When to Use Embedded Documents?\n",
    "\n",
    "✅ Use Embedded Documents When:\n",
    "\n",
    "1. One-to-Few Relationship – Example: A user profile with an embedded address or preferences.\n",
    "\n",
    "2. Data is Frequently Accessed Together – Example: Order details (products, price, shipping) inside an orders collection.\n",
    "\n",
    "3. No Need for Separate Queries – If you always fetch data together, embedding reduces the need for joins."
   ]
  },
  {
   "cell_type": "code",
   "execution_count": null,
   "id": "15da37ad-f1de-46aa-ab02-14bf1da9e27b",
   "metadata": {},
   "outputs": [],
   "source": []
  },
  {
   "cell_type": "markdown",
   "id": "08c25b06-82f5-43dc-9a8a-e7a96c9cf307",
   "metadata": {},
   "source": [
    "Q16. What is the purpose of MongoDB’s $lookup stage in aggregation ?"
   ]
  },
  {
   "cell_type": "markdown",
   "id": "f483bb45-0568-448e-8fae-641709a5f18f",
   "metadata": {},
   "source": [
    "Purpose of MongoDB’s $lookup Stage in Aggregation\n",
    "\n",
    "The $lookup stage in MongoDB’s aggregation pipeline performs a left outer join between two collections. It is used to retrieve related data from another collection and embed it in the query result."
   ]
  },
  {
   "cell_type": "markdown",
   "id": "a1838e6e-f3db-4fc8-8c94-89649a5f6d00",
   "metadata": {},
   "source": [
    "When to Use $lookup?\n",
    "\n",
    "✅ Use $lookup when:\n",
    "\n",
    "1. You need to join two collections (similar to SQL joins).\n",
    "\n",
    "2. You want to avoid data duplication by keeping related data in separate collections.\n",
    "\n",
    "3. You need to retrieve additional details for a query result."
   ]
  },
  {
   "cell_type": "code",
   "execution_count": null,
   "id": "4f811460-5110-4060-857a-12f1240e6d0c",
   "metadata": {},
   "outputs": [],
   "source": []
  },
  {
   "cell_type": "markdown",
   "id": "1c0a8322-1231-46ab-94de-881e711acc03",
   "metadata": {},
   "source": [
    "Q17. What are some common use cases for MongoDB ?"
   ]
  },
  {
   "cell_type": "markdown",
   "id": "6ba09c03-59c6-411d-bf35-654bbe84df86",
   "metadata": {},
   "source": [
    "Common Use Cases for MongoDB\n",
    "\n",
    "1. Real-Time Analytics – Used in financial markets and website traffic monitoring.\n",
    "\n",
    "2. Content Management – Ideal for blogs, product catalogs, and news platforms.\n",
    "\n",
    "3. IoT & Sensor Data – Stores smart home and industrial sensor logs.\n",
    "\n",
    "4. E-Commerce – Manages product inventories, customer orders, and reviews.\n",
    "\n",
    "5. Gaming – Tracks player profiles, in-game purchases, and leaderboards.\n",
    "\n",
    "6. Social Media & Chat Apps – Handles messages, notifications, and user interactions.\n",
    "\n",
    "7. Geospatial Apps – Used in ride-hailing services and location tracking.\n",
    "\n",
    "8. Healthcare – Stores patient records and medical history securely"
   ]
  },
  {
   "cell_type": "code",
   "execution_count": null,
   "id": "59ed4a72-1122-47dc-b248-363f85e7522e",
   "metadata": {},
   "outputs": [],
   "source": []
  },
  {
   "cell_type": "markdown",
   "id": "805b0715-f80d-4f94-89a9-bee13c0f9193",
   "metadata": {},
   "source": [
    "Q18. What are the advantages of using MongoDB for horizontal scaling ?"
   ]
  },
  {
   "cell_type": "markdown",
   "id": "fbf84b62-b4a7-4817-aae0-a5da8de23724",
   "metadata": {},
   "source": [
    "Advantages of Using MongoDB for Horizontal Scaling : \n",
    "\n",
    "1. Sharding – Distributes data across multiple servers, enabling scalability.\n",
    "   \n",
    "2. Automatic Data Distribution – Handles data balancing automatically across nodes.\n",
    "\n",
    "3. High Availability – Uses replica sets for data redundancy and automatic failover.\n",
    "\n",
    "4. Easy to Scale Out – Simply add more servers to scale horizontally with no downtime.\n",
    "\n",
    "5. Efficient Data Handling – Handles large datasets and high-traffic applications.\n",
    "\n",
    "6. Flexible Schema – Easily adapts to changing data models as the app grows."
   ]
  },
  {
   "cell_type": "code",
   "execution_count": null,
   "id": "7ac2d0f9-640c-4824-856d-073751414503",
   "metadata": {},
   "outputs": [],
   "source": []
  },
  {
   "cell_type": "markdown",
   "id": "57f418f2-1988-44ed-b8a2-b1b86ba88d7f",
   "metadata": {},
   "source": [
    "Q19. How do MongoDB transactions differ from SQL transactions ?"
   ]
  },
  {
   "cell_type": "markdown",
   "id": "20fe64f2-8e94-4349-bf46-f2141b0c3fab",
   "metadata": {},
   "source": [
    "MongoDB transactions and SQL transactions differ in several ways, mainly due to their underlying database architectures. Here are the key differences:\n",
    "\n",
    "1. Data Model\n",
    "MongoDB: Uses a document-based NoSQL model where data is stored in JSON-like BSON documents.\n",
    "SQL Databases: Use a relational model with tables, rows, and columns.\n",
    "\n",
    "2. ACID Compliance\n",
    "MongoDB: Supports ACID transactions (since version 4.0) but is optimized for document-level operations. Multi-document transactions are available but can have performance overhead.\n",
    "SQL Databases: Designed with ACID compliance at their core, ensuring strong consistency across multiple tables and rows.\n",
    "\n",
    "3. Scope of Transactions\n",
    "MongoDB: Transactions are mainly used for multi-document operations within a single replica set or sharded cluster.\n",
    "SQL Databases: Transactions can span multiple tables, rows, and even databases.\n",
    "\n",
    "4. Performance Impact\n",
    "MongoDB: Since MongoDB is optimized for high-speed document-based operations, transactions introduce additional overhead, potentially reducing performance.\n",
    "SQL Databases: Transactions are natively integrated and optimized for handling multiple complex operations efficiently.\n",
    "\n",
    "5. Concurrency Control\n",
    "MongoDB: Uses an optimistic concurrency control approach, where operations typically retry on failure.\n",
    "SQL Databases: Use pessimistic locking with explicit row and table locks."
   ]
  },
  {
   "cell_type": "code",
   "execution_count": null,
   "id": "71b41c3a-7a14-4ae3-b3a2-9b10d736836c",
   "metadata": {},
   "outputs": [],
   "source": []
  },
  {
   "cell_type": "markdown",
   "id": "9619f2d7-6d78-4fc3-ae98-e6dd3051eb04",
   "metadata": {},
   "source": [
    "Q20. What are the main differences between capped collections and regular collections ?"
   ]
  },
  {
   "cell_type": "markdown",
   "id": "b90d3eba-bc90-4a37-a5e4-038019ecdb3f",
   "metadata": {},
   "source": [
    "<img src = 'A2.png'>"
   ]
  },
  {
   "cell_type": "code",
   "execution_count": null,
   "id": "817c5b7a-c025-4d0c-b54f-9b5202304323",
   "metadata": {},
   "outputs": [],
   "source": []
  },
  {
   "cell_type": "markdown",
   "id": "28903ccd-e841-4a2e-af73-b5c563de1ff2",
   "metadata": {},
   "source": [
    "Q21. What is the purpose of the $match stage in MongoDB’s aggregation pipeline ?"
   ]
  },
  {
   "cell_type": "markdown",
   "id": "a7236f3a-cfcf-4b45-bfc5-e1e08aea1352",
   "metadata": {},
   "source": [
    "Purpose of the $match Stage in MongoDB’s Aggregation Pipeline\n",
    "\n",
    "The $match stage is used to filter documents based on specified conditions, similar to the find() query but within the aggregation pipeline. It improves performance by reducing the number of documents processed in later stages.\n",
    "\n",
    "Key Features:\n",
    "Acts as a filter to include only relevant documents.\n",
    "\n",
    "Improves efficiency by reducing the dataset early in the pipeline.\n"
   ]
  },
  {
   "cell_type": "code",
   "execution_count": null,
   "id": "bc769a2a-6e7b-4bb6-a12c-8756dcd247ea",
   "metadata": {},
   "outputs": [],
   "source": []
  },
  {
   "cell_type": "markdown",
   "id": "7e6cb550-1669-4c08-ba7a-61398d125207",
   "metadata": {},
   "source": [
    "Q22. How can you secure access to a MongoDB database ?"
   ]
  },
  {
   "cell_type": "markdown",
   "id": "487b838c-85f9-4892-8bb6-40463a61557b",
   "metadata": {},
   "source": [
    "To secure a MongoDB database:\n",
    "\n",
    "1. Enable Authentication – Use username-password authentication (SCRAM-SHA-256).\n",
    "\n",
    "2. Role-Based Access Control (RBAC) – Assign minimal privileges using roles (read, readWrite).\n",
    "\n",
    "3. Enable TLS/SSL Encryption – Encrypt data in transit using SSL/TLS.\n",
    "\n",
    "4. Use IP Whitelisting – Restrict access to specific IPs using bindIp.\n",
    "\n",
    "5. Disable Remote Access – Run MongoDB on localhost unless external access is needed.\n",
    "\n",
    "6. Enable Firewall Rules – Use firewalls (UFW, IPTables) to block unauthorized access.\n",
    "\n",
    "7. Encrypt Data at Rest – Use WiredTiger encryption for stored data.\n",
    "\n",
    "8. Audit & Monitor – Enable logging and use monitoring tools (MongoDB Atlas, Prometheus).\n",
    "\n",
    "\n",
    "\n",
    "\n",
    "\n",
    "\n"
   ]
  },
  {
   "cell_type": "code",
   "execution_count": null,
   "id": "8aed152d-030b-4e75-8421-cc6ee2278fa4",
   "metadata": {},
   "outputs": [],
   "source": []
  },
  {
   "cell_type": "markdown",
   "id": "a8b4f0dc-4564-44f3-a71e-3cf26371b873",
   "metadata": {},
   "source": [
    "Q23. What is MongoDB’s WiredTiger storage engine, and why is it important ?"
   ]
  },
  {
   "cell_type": "markdown",
   "id": "eb1daaa9-c658-401d-aa80-e47b1b0edff8",
   "metadata": {},
   "source": [
    "MongoDB’s WiredTiger Storage Engine and Its Importance\n",
    "\n",
    "WiredTiger is MongoDB’s default storage engine (since version 3.2), designed for high performance, concurrency, and efficient memory use.\n",
    "\n",
    "Key Features & Importance:\n",
    "\n",
    "1. Document-Level Concurrency – Supports multiple read/write operations simultaneously, improving performance.\n",
    "\n",
    "2. Compression – Uses Snappy, Zlib, or Zstd to reduce storage footprint.\n",
    "\n",
    "3. Journaling – Ensures data durability and crash recovery.\n",
    "\n",
    "4. Checkpointing – Reduces write amplification and speeds up recovery.\n",
    "\n",
    "5. Indexing Efficiency – Uses B-Trees for faster lookups."
   ]
  },
  {
   "cell_type": "code",
   "execution_count": null,
   "id": "9103b29f-4788-4b6c-a343-75eb40588f83",
   "metadata": {},
   "outputs": [],
   "source": []
  },
  {
   "cell_type": "markdown",
   "id": "5f3e3224-5e96-49ed-9101-2b4a0aadaa69",
   "metadata": {},
   "source": [
    "## Practical Questions"
   ]
  },
  {
   "cell_type": "code",
   "execution_count": null,
   "id": "991a7020-bb49-4ecc-9b79-bc65392b9740",
   "metadata": {},
   "outputs": [],
   "source": []
  },
  {
   "cell_type": "markdown",
   "id": "b846af4a-0718-421e-8821-8ae9312e6673",
   "metadata": {},
   "source": [
    "Q1. Write a Python script to load the Superstore dataset from a CSV file into MongoDB."
   ]
  },
  {
   "cell_type": "code",
   "execution_count": 6,
   "id": "1da0daef-6586-494e-aee5-a7537e20970b",
   "metadata": {},
   "outputs": [
    {
     "name": "stdout",
     "output_type": "stream",
     "text": [
      "Inserted 9994 records into MongoDB collection 'sales'.\n"
     ]
    }
   ],
   "source": [
    "import pandas as pd\n",
    "import pymongo\n",
    "\n",
    "# MongoDB connection details\n",
    "MONGO_URI = \"mongodb://localhost:27017/\"  # Change if needed\n",
    "DB_NAME = \"superstore_db\"\n",
    "COLLECTION_NAME = \"sales\"\n",
    "CSV_FILE_PATH = \"Superstore.csv\"  # Change to the actual path of your dataset\n",
    "\n",
    "# Establish connection to MongoDB\n",
    "client = pymongo.MongoClient(MONGO_URI)\n",
    "db = client[DB_NAME]\n",
    "collection = db[COLLECTION_NAME]\n",
    "\n",
    "# Load CSV data into a DataFrame with encoding handling\n",
    "try:\n",
    "    df = pd.read_csv(CSV_FILE_PATH, encoding=\"ISO-8859-1\")\n",
    "except UnicodeDecodeError:\n",
    "    df = pd.read_csv(CSV_FILE_PATH, encoding=\"utf-8-sig\")\n",
    "\n",
    "# Convert DataFrame to dictionary format for MongoDB\n",
    "data = df.to_dict(orient=\"records\")\n",
    "\n",
    "# Insert data into MongoDB\n",
    "collection.insert_many(data)\n",
    "\n",
    "print(f\"Inserted {len(data)} records into MongoDB collection '{COLLECTION_NAME}'.\")\n"
   ]
  },
  {
   "cell_type": "code",
   "execution_count": null,
   "id": "3ca35162-dec8-4e1d-b3fd-b289f8d5cd32",
   "metadata": {},
   "outputs": [],
   "source": []
  },
  {
   "cell_type": "markdown",
   "id": "3aa18311-1e70-4e6b-8b18-217250050440",
   "metadata": {},
   "source": [
    "Q2. Retrieve and print all documents from the Orders collection."
   ]
  },
  {
   "cell_type": "code",
   "execution_count": 13,
   "id": "d9c31e5e-93e9-4dd3-a33b-9e79f49d7e19",
   "metadata": {},
   "outputs": [
    {
     "name": "stdout",
     "output_type": "stream",
     "text": [
      "Inserted 9994 records into MongoDB collection 'sales'.\n",
      "No documents found in the Orders collection.\n"
     ]
    }
   ],
   "source": [
    "import pandas as pd\n",
    "import pymongo\n",
    "from pprint import pprint\n",
    "\n",
    "# MongoDB connection details\n",
    "MONGO_URI = \"mongodb://localhost:27017/\"  # Change if needed\n",
    "DB_NAME = \"superstore_db\"\n",
    "COLLECTION_NAME = \"sales\"\n",
    "CSV_FILE_PATH = \"Superstore.csv\"  # Change to the actual path of your dataset\n",
    "\n",
    "# Establish connection to MongoDB\n",
    "client = pymongo.MongoClient(MONGO_URI)\n",
    "db = client[DB_NAME]\n",
    "collection = db[COLLECTION_NAME]\n",
    "\n",
    "# Load CSV data into a DataFrame with encoding handling\n",
    "try:\n",
    "    df = pd.read_csv(CSV_FILE_PATH, encoding=\"ISO-8859-1\")\n",
    "except UnicodeDecodeError:\n",
    "    df = pd.read_csv(CSV_FILE_PATH, encoding=\"utf-8-sig\")\n",
    "\n",
    "# Convert DataFrame to dictionary format for MongoDB\n",
    "data = df.to_dict(orient=\"records\")\n",
    "\n",
    "# Insert data into MongoDB\n",
    "collection.insert_many(data)\n",
    "\n",
    "print(f\"Inserted {len(data)} records into MongoDB collection '{COLLECTION_NAME}'.\")\n",
    "\n",
    "# Retrieve and print all documents from the Orders collection\n",
    "orders_collection = db[\"Orders\"]\n",
    "all_orders = list(orders_collection.find())\n",
    "\n",
    "if all_orders:\n",
    "    print(\"Orders Collection Documents:\")\n",
    "    for order in all_orders:\n",
    "        pprint(order)\n",
    "else:\n",
    "    print(\"No documents found in the Orders collection.\")\n"
   ]
  },
  {
   "cell_type": "code",
   "execution_count": null,
   "id": "4445920d-91ba-46e7-8ebb-84c5b7f856c4",
   "metadata": {},
   "outputs": [],
   "source": []
  },
  {
   "cell_type": "markdown",
   "id": "f4f10b2f-8aff-47f7-a058-7481d501b338",
   "metadata": {},
   "source": [
    "Q3. Count and display the total number of documents in the Orders collection."
   ]
  },
  {
   "cell_type": "code",
   "execution_count": 16,
   "id": "9f9b2255-e2a7-4e3d-99a3-51c83e6136e6",
   "metadata": {},
   "outputs": [
    {
     "name": "stdout",
     "output_type": "stream",
     "text": [
      "Inserted 9994 records into MongoDB collection 'sales'.\n",
      "No documents found in the Orders collection.\n",
      "Total number of documents in the Orders collection: 0\n"
     ]
    }
   ],
   "source": [
    "import pandas as pd\n",
    "import pymongo\n",
    "from pprint import pprint\n",
    "\n",
    "# MongoDB connection details\n",
    "MONGO_URI = \"mongodb://localhost:27017/\"  # Change if needed\n",
    "DB_NAME = \"superstore_db\"\n",
    "COLLECTION_NAME = \"sales\"\n",
    "CSV_FILE_PATH = \"Superstore.csv\"  # Change to the actual path of your dataset\n",
    "\n",
    "# Establish connection to MongoDB\n",
    "client = pymongo.MongoClient(MONGO_URI)\n",
    "db = client[DB_NAME]\n",
    "collection = db[COLLECTION_NAME]\n",
    "\n",
    "# Load CSV data into a DataFrame with encoding handling\n",
    "try:\n",
    "    df = pd.read_csv(CSV_FILE_PATH, encoding=\"ISO-8859-1\")\n",
    "except UnicodeDecodeError:\n",
    "    df = pd.read_csv(CSV_FILE_PATH, encoding=\"utf-8-sig\")\n",
    "\n",
    "# Convert DataFrame to dictionary format for MongoDB\n",
    "data = df.to_dict(orient=\"records\")\n",
    "\n",
    "# Insert data into MongoDB\n",
    "collection.insert_many(data)\n",
    "\n",
    "print(f\"Inserted {len(data)} records into MongoDB collection '{COLLECTION_NAME}'.\")\n",
    "\n",
    "# Retrieve and print all documents from the Orders collection\n",
    "orders_collection = db[\"Orders\"]\n",
    "all_orders = list(orders_collection.find())\n",
    "\n",
    "if all_orders:\n",
    "    print(\"Orders Collection Documents:\")\n",
    "    for order in all_orders:\n",
    "        pprint(order)\n",
    "else:\n",
    "    print(\"No documents found in the Orders collection.\")\n",
    "\n",
    "# Count and display the total number of documents in the Orders collection\n",
    "total_orders = orders_collection.count_documents({})\n",
    "print(f\"Total number of documents in the Orders collection: {total_orders}\")\n"
   ]
  },
  {
   "cell_type": "code",
   "execution_count": null,
   "id": "8373db8f-8463-4143-9c1b-a674ac9344e3",
   "metadata": {},
   "outputs": [],
   "source": []
  },
  {
   "cell_type": "markdown",
   "id": "e07ada03-6069-4cf0-8349-e8cbe4b6829a",
   "metadata": {},
   "source": [
    "Q4. Write a query to fetch all orders from the \"West\" region."
   ]
  },
  {
   "cell_type": "code",
   "execution_count": 17,
   "id": "0c001a3e-2418-4320-9cb5-b058f0780738",
   "metadata": {},
   "outputs": [
    {
     "name": "stdout",
     "output_type": "stream",
     "text": [
      "Inserted 9994 records into MongoDB collection 'sales'.\n",
      "No documents found in the Orders collection.\n",
      "Total number of documents in the Orders collection: 0\n",
      "Orders from the West region:\n"
     ]
    }
   ],
   "source": [
    "import pandas as pd\n",
    "import pymongo\n",
    "from pprint import pprint\n",
    "\n",
    "# MongoDB connection details\n",
    "MONGO_URI = \"mongodb://localhost:27017/\"  # Change if needed\n",
    "DB_NAME = \"superstore_db\"\n",
    "COLLECTION_NAME = \"sales\"\n",
    "CSV_FILE_PATH = \"Superstore.csv\"  # Change to the actual path of your dataset\n",
    "\n",
    "# Establish connection to MongoDB\n",
    "client = pymongo.MongoClient(MONGO_URI)\n",
    "db = client[DB_NAME]\n",
    "collection = db[COLLECTION_NAME]\n",
    "\n",
    "# Load CSV data into a DataFrame with encoding handling\n",
    "try:\n",
    "    df = pd.read_csv(CSV_FILE_PATH, encoding=\"ISO-8859-1\")\n",
    "except UnicodeDecodeError:\n",
    "    df = pd.read_csv(CSV_FILE_PATH, encoding=\"utf-8-sig\")\n",
    "\n",
    "# Convert DataFrame to dictionary format for MongoDB\n",
    "data = df.to_dict(orient=\"records\")\n",
    "\n",
    "# Insert data into MongoDB\n",
    "collection.insert_many(data)\n",
    "\n",
    "print(f\"Inserted {len(data)} records into MongoDB collection '{COLLECTION_NAME}'.\")\n",
    "\n",
    "# Retrieve and print all documents from the Orders collection\n",
    "orders_collection = db[\"Orders\"]\n",
    "all_orders = list(orders_collection.find())\n",
    "\n",
    "if all_orders:\n",
    "    print(\"Orders Collection Documents:\")\n",
    "    for order in all_orders:\n",
    "        pprint(order)\n",
    "else:\n",
    "    print(\"No documents found in the Orders collection.\")\n",
    "\n",
    "# Count and display the total number of documents in the Orders collection\n",
    "total_orders = orders_collection.count_documents({})\n",
    "print(f\"Total number of documents in the Orders collection: {total_orders}\")\n",
    "\n",
    "# Fetch and print all orders from the 'West' region\n",
    "west_orders = list(orders_collection.find({\"Region\": \"West\"}))\n",
    "print(\"Orders from the West region:\")\n",
    "for order in west_orders:\n",
    "    pprint(order)\n"
   ]
  },
  {
   "cell_type": "code",
   "execution_count": null,
   "id": "8f817618-bf9c-49e6-85cb-341a0e20fd3b",
   "metadata": {},
   "outputs": [],
   "source": []
  },
  {
   "cell_type": "markdown",
   "id": "e2d02176-06ec-4edb-a5b4-456bd0e7df88",
   "metadata": {},
   "source": [
    "Q5. Write a query to find orders where Sales is greater than 500."
   ]
  },
  {
   "cell_type": "code",
   "execution_count": 19,
   "id": "6116b650-3750-40f0-91c3-4925a502c1f3",
   "metadata": {},
   "outputs": [
    {
     "name": "stdout",
     "output_type": "stream",
     "text": [
      "Orders where Sales is greater than 500:\n"
     ]
    }
   ],
   "source": [
    "# Fetch and print all orders where Sales is greater than 500\n",
    "high_sales_orders = list(orders_collection.find({\"Sales\": {\"$gt\": 500}}))\n",
    "print(\"Orders where Sales is greater than 500:\")\n",
    "for order in high_sales_orders:\n",
    "    pprint(order)"
   ]
  },
  {
   "cell_type": "code",
   "execution_count": null,
   "id": "fc7ff37f-8fd4-4b67-a677-8067233a6615",
   "metadata": {},
   "outputs": [],
   "source": []
  },
  {
   "cell_type": "markdown",
   "id": "40423920-d5b7-4bf8-8fce-edda9a2e94a6",
   "metadata": {},
   "source": [
    "Q6. Fetch the top 3 orders with the highest Profit."
   ]
  },
  {
   "cell_type": "code",
   "execution_count": 20,
   "id": "ce4d4936-1956-4fa6-ad15-3b513f5abe16",
   "metadata": {},
   "outputs": [
    {
     "name": "stdout",
     "output_type": "stream",
     "text": [
      "Top 3 orders with the highest Profit:\n"
     ]
    }
   ],
   "source": [
    "# Fetch and print the top 3 orders with the highest Profit\n",
    "top_profit_orders = list(orders_collection.find().sort(\"Profit\", -1).limit(3))\n",
    "print(\"Top 3 orders with the highest Profit:\")\n",
    "for order in top_profit_orders:\n",
    "    pprint(order)\n"
   ]
  },
  {
   "cell_type": "code",
   "execution_count": null,
   "id": "c4fbd0c6-53d7-43cc-88c2-bd09ff56cb03",
   "metadata": {},
   "outputs": [],
   "source": []
  },
  {
   "cell_type": "markdown",
   "id": "0caf3f60-5b43-4b69-bdee-f3db0e590a74",
   "metadata": {},
   "source": [
    "Q7. Update all orders with Ship Mode as \"First Class\" to \"Premium Class."
   ]
  },
  {
   "cell_type": "code",
   "execution_count": 21,
   "id": "a009535a-5cca-432f-8c91-ca52b0663147",
   "metadata": {},
   "outputs": [
    {
     "name": "stdout",
     "output_type": "stream",
     "text": [
      "Updated 0 documents where Ship Mode was 'First Class'.\n"
     ]
    }
   ],
   "source": [
    "# Update all orders with Ship Mode as \"First Class\" to \"Premium Class\"\n",
    "update_result = orders_collection.update_many(\n",
    "    {\"Ship Mode\": \"First Class\"},\n",
    "    {\"$set\": {\"Ship Mode\": \"Premium Class\"}}\n",
    ")\n",
    "print(f\"Updated {update_result.modified_count} documents where Ship Mode was 'First Class'.\")\n"
   ]
  },
  {
   "cell_type": "code",
   "execution_count": null,
   "id": "6b117125-20c6-4ed3-bb6d-9407af78b207",
   "metadata": {},
   "outputs": [],
   "source": []
  },
  {
   "cell_type": "markdown",
   "id": "8be0ea59-08e4-450c-a294-b2967afabb6e",
   "metadata": {},
   "source": [
    "Q8. Delete all orders where Sales is less than 50."
   ]
  },
  {
   "cell_type": "code",
   "execution_count": 22,
   "id": "3100ddda-798f-421d-8005-f1b904d2ce23",
   "metadata": {},
   "outputs": [
    {
     "name": "stdout",
     "output_type": "stream",
     "text": [
      "Deleted 0 documents where Sales was less than 50.\n"
     ]
    }
   ],
   "source": [
    "# Delete all orders where Sales is less than 50\n",
    "delete_result = orders_collection.delete_many({\"Sales\": {\"$lt\": 50}})\n",
    "print(f\"Deleted {delete_result.deleted_count} documents where Sales was less than 50.\")\n"
   ]
  },
  {
   "cell_type": "code",
   "execution_count": null,
   "id": "c5e65754-070e-4bb8-a0bf-00ee19cc5429",
   "metadata": {},
   "outputs": [],
   "source": []
  },
  {
   "cell_type": "markdown",
   "id": "b9ceddff-fdd1-48b8-a717-de950f907973",
   "metadata": {},
   "source": [
    "Q9.Use aggregation to group orders by Region and calculate total sales per region."
   ]
  },
  {
   "cell_type": "code",
   "execution_count": 23,
   "id": "44cf1418-9e64-443b-833d-527dad2bf084",
   "metadata": {},
   "outputs": [
    {
     "name": "stdout",
     "output_type": "stream",
     "text": [
      "Total Sales per Region:\n"
     ]
    }
   ],
   "source": [
    "# Use aggregation to group orders by Region and calculate total sales per region\n",
    "region_sales = list(orders_collection.aggregate([\n",
    "    {\"$group\": {\"_id\": \"$Region\", \"TotalSales\": {\"$sum\": \"$Sales\"}}}\n",
    "]))\n",
    "\n",
    "print(\"Total Sales per Region:\")\n",
    "for region in region_sales:\n",
    "    pprint(region)"
   ]
  },
  {
   "cell_type": "code",
   "execution_count": null,
   "id": "7f5b8acd-80d3-4b7c-aa18-9fdcd3582f3b",
   "metadata": {},
   "outputs": [],
   "source": []
  },
  {
   "cell_type": "markdown",
   "id": "e5dd8887-231f-4299-b2c3-439a2ef77e9b",
   "metadata": {},
   "source": [
    "Q10. Fetch all distinct values for Ship Mode from the collection."
   ]
  },
  {
   "cell_type": "code",
   "execution_count": 24,
   "id": "cd6633ae-3a20-4984-a38d-7b72889b317c",
   "metadata": {},
   "outputs": [
    {
     "name": "stdout",
     "output_type": "stream",
     "text": [
      "Distinct Ship Modes:\n",
      "[]\n"
     ]
    }
   ],
   "source": [
    "# Fetch all distinct values for Ship Mode\n",
    "distinct_ship_modes = orders_collection.distinct(\"Ship Mode\")\n",
    "print(\"Distinct Ship Modes:\")\n",
    "pprint(distinct_ship_modes)"
   ]
  },
  {
   "cell_type": "code",
   "execution_count": null,
   "id": "0cb3fa8a-a6d0-4d9f-91c4-16a4ff209825",
   "metadata": {},
   "outputs": [],
   "source": []
  },
  {
   "cell_type": "markdown",
   "id": "ba4503a8-46a7-410c-b2aa-dfc42fd9361d",
   "metadata": {},
   "source": [
    "Q11. Count the number of orders for each category."
   ]
  },
  {
   "cell_type": "code",
   "execution_count": 25,
   "id": "a8a1055a-b722-4140-96f1-3dd8d9272356",
   "metadata": {},
   "outputs": [
    {
     "name": "stdout",
     "output_type": "stream",
     "text": [
      "Total Orders per Category:\n"
     ]
    }
   ],
   "source": [
    "# Count the number of orders for each category\n",
    "category_orders = list(orders_collection.aggregate([\n",
    "    {\"$group\": {\"_id\": \"$Category\", \"TotalOrders\": {\"$sum\": 1}}}\n",
    "]))\n",
    "\n",
    "print(\"Total Orders per Category:\")\n",
    "for category in category_orders:\n",
    "    pprint(category)\n"
   ]
  },
  {
   "cell_type": "code",
   "execution_count": null,
   "id": "d8c0ecd7-c4ee-4693-86f0-7d3e54fed2f9",
   "metadata": {},
   "outputs": [],
   "source": []
  }
 ],
 "metadata": {
  "kernelspec": {
   "display_name": "Python 3 (ipykernel)",
   "language": "python",
   "name": "python3"
  },
  "language_info": {
   "codemirror_mode": {
    "name": "ipython",
    "version": 3
   },
   "file_extension": ".py",
   "mimetype": "text/x-python",
   "name": "python",
   "nbconvert_exporter": "python",
   "pygments_lexer": "ipython3",
   "version": "3.12.4"
  }
 },
 "nbformat": 4,
 "nbformat_minor": 5
}
