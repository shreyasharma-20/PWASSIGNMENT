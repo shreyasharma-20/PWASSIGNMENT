{
  "nbformat": 4,
  "nbformat_minor": 0,
  "metadata": {
    "colab": {
      "provenance": []
    },
    "kernelspec": {
      "name": "python3",
      "display_name": "Python 3"
    },
    "language_info": {
      "name": "python"
    }
  },
  "cells": [
    {
      "cell_type": "markdown",
      "source": [
        " 1.Explain the purpose and advantages of NumPy in scientific computing and data analysis. How does it enhance Python's capabilities for numerical operations?\n",
        "\n",
        " Ans: NumPy is a fundamental library in Python for scientific computing. It offers powerful features for working with multidimensional arrays and performing various mathematical operations efficiently.\n",
        "\n",
        "NumPy (Numerical Python) is an open source Python library that has a wide range of inbuilt functions.\n",
        "\n",
        "Advantage of Numpy :NumPy is ideal for handling large amounts of homogeneous (same-type) data, offering significant improvements in speed and memory efficiency. It also provides high-level syntax for a wide range of numerical operations, making it a powerful tool for scientific computing and data processing on the CPU."
      ],
      "metadata": {
        "id": "p3MJePdEAkMs"
      }
    },
    {
      "cell_type": "markdown",
      "source": [
        "2. Compare and contrast np.mean() and np.average() functions in NumPy. When would you use one over the\n",
        "other?\n",
        "\n",
        "\n",
        "Ans: Both np.mean() and np.average() are functions in NumPy used to calculate averages, but they have different features and use cases. Here’s a detailed comparison:\n",
        "\n",
        "np.mean()\n",
        "Purpose: Computes the arithmetic mean of the array elements.\n",
        "\n",
        "Usage:\n"
      ],
      "metadata": {
        "id": "v-aFPHkfAi2I"
      }
    },
    {
      "cell_type": "code",
      "source": [
        "arr = np.array([1, 2, 3, 4, 5])\n",
        "mean_value = np.mean(arr)\n",
        "print(mean_value)"
      ],
      "metadata": {
        "colab": {
          "base_uri": "https://localhost:8080/"
        },
        "id": "5qMtOTv58SGL",
        "outputId": "a3a2bf73-6b04-4963-8c74-5a4045c7ae30"
      },
      "execution_count": null,
      "outputs": [
        {
          "output_type": "stream",
          "name": "stdout",
          "text": [
            "3.0\n"
          ]
        }
      ]
    },
    {
      "cell_type": "markdown",
      "source": [
        "np.average()\n",
        "Purpose: Computes the weighted average of the array elements, or the arithmetic mean if no weights are provided.\n",
        "\n",
        "Usage:\n"
      ],
      "metadata": {
        "id": "0RTjkvL88WxJ"
      }
    },
    {
      "cell_type": "code",
      "source": [
        "arr = np.array([1, 2, 3, 4, 5])\n",
        "average_value = np.average(arr)\n",
        "print(average_value)\n",
        "\n",
        "# With weights\n",
        "weights = np.array([1, 1, 1, 1, 1])\n",
        "weighted_average = np.average(arr, weights=weights)\n",
        "print(weighted_average)\n",
        "\n",
        "weights = np.array([1, 2, 3, 4, 5])\n",
        "weighted_average = np.average(arr, weights=weights)\n",
        "print(weighted_average)"
      ],
      "metadata": {
        "colab": {
          "base_uri": "https://localhost:8080/"
        },
        "id": "OZLGHNT98gEJ",
        "outputId": "c71d528f-180b-4ae5-acff-0c731e1d409f"
      },
      "execution_count": null,
      "outputs": [
        {
          "output_type": "stream",
          "name": "stdout",
          "text": [
            "3.0\n",
            "3.0\n",
            "3.6666666666666665\n"
          ]
        }
      ]
    },
    {
      "cell_type": "markdown",
      "source": [
        "3. Describe the methods for reversing a NumPy array along different axes. Provide examples for 1D and 2D rarays.\n",
        "\n",
        "Ans:Reversing a NumPy array along different axes can be useful for various tasks, such as data manipulation or preparing data for machine learning. Here's how you can reverse NumPy arrays along different axes, with examples for both 1D and 2D arrays.\n",
        "\n",
        "Reversing a 1D Array\n",
        "For a 1D array, reversing is straightforward. You can use slicing to reverse the order of elements.\n",
        "\n",
        "Example:"
      ],
      "metadata": {
        "id": "DbS1Qp6n8mx4"
      }
    },
    {
      "cell_type": "code",
      "source": [
        "import numpy as np\n",
        "\n",
        "# Create a 1D array\n",
        "arr_1d = np.array([1, 2, 3, 4, 5])\n",
        "\n",
        "# Reverse the array\n",
        "reversed_arr_1d = arr_1d[::-1]\n",
        "\n",
        "print(\"Original 1D array:\", arr_1d)\n",
        "print(\"Reversed 1D array:\", reversed_arr_1d)\n",
        "\n"
      ],
      "metadata": {
        "colab": {
          "base_uri": "https://localhost:8080/"
        },
        "id": "UYyPVz1j8sEX",
        "outputId": "a2857af2-52b2-4c23-ae6c-64aad3e011d0"
      },
      "execution_count": null,
      "outputs": [
        {
          "output_type": "stream",
          "name": "stdout",
          "text": [
            "Original 1D array: [1 2 3 4 5]\n",
            "Reversed 1D array: [5 4 3 2 1]\n"
          ]
        }
      ]
    },
    {
      "cell_type": "markdown",
      "source": [
        "Reversing a 2D Array\n",
        "For a 2D array, you might want to reverse along specific axes:\n",
        "\n",
        "Reverse along rows (axis=0): Flips the array vertically.\n",
        "Reverse along columns (axis=1): Flips the array horizontally.\n",
        "Example:\n"
      ],
      "metadata": {
        "id": "21XlJMN-9Rxb"
      }
    },
    {
      "cell_type": "code",
      "source": [
        "arr_2d = np.array([[1, 2, 3],\n",
        "                   [4, 5, 6],\n",
        "                   [7, 8, 9]])\n",
        "\n",
        "print(\"Original 2D array:\\n\", arr_2d)\n",
        "\n",
        "# Reverse along rows (axis=0)\n",
        "reversed_rows = arr_2d[::-1, :]\n",
        "print(\"Reversed along rows (axis=0):\\n\", reversed_rows)\n",
        "\n",
        "# Reverse along columns (axis=1)\n",
        "reversed_columns = arr_2d[:, ::-1]\n",
        "print(\"Reversed along columns (axis=1):\\n\", reversed_columns)\n",
        "\n",
        "# Reverse along both axes\n",
        "reversed_both = arr_2d[::-1, ::-1]\n",
        "print(\"Reversed along both axes:\\n\", reversed_both)\n"
      ],
      "metadata": {
        "colab": {
          "base_uri": "https://localhost:8080/"
        },
        "id": "6WUPkJOW9V8U",
        "outputId": "82b150ad-e9cb-4ac7-fa3b-98212ae1f6ac"
      },
      "execution_count": null,
      "outputs": [
        {
          "output_type": "stream",
          "name": "stdout",
          "text": [
            "Original 2D array:\n",
            " [[1 2 3]\n",
            " [4 5 6]\n",
            " [7 8 9]]\n",
            "Reversed along rows (axis=0):\n",
            " [[7 8 9]\n",
            " [4 5 6]\n",
            " [1 2 3]]\n",
            "Reversed along columns (axis=1):\n",
            " [[3 2 1]\n",
            " [6 5 4]\n",
            " [9 8 7]]\n",
            "Reversed along both axes:\n",
            " [[9 8 7]\n",
            " [6 5 4]\n",
            " [3 2 1]]\n"
          ]
        }
      ]
    },
    {
      "cell_type": "markdown",
      "source": [
        "4. How can you determine the data type of elements in a NumPy array? Discuss the importance of data types in memory management and performance\n",
        "\n",
        "Ans:-In NumPy, determining the data type of elements in an array is straightforward and crucial for efficient memory management and performance. Here's how you can determine the data type and why it matters:\n",
        "\n",
        "Determining the Data Type\n",
        "\n",
        "You can use the .dtype attribute of a NumPy array to determine its data type.\n",
        "\n",
        "Example:"
      ],
      "metadata": {
        "id": "Ur-i-JaT9ong"
      }
    },
    {
      "cell_type": "code",
      "source": [
        "# Create arrays with different data types\n",
        "arr_int = np.array([1, 2, 3, 4])\n",
        "arr_float = np.array([1.0, 2.0, 3.0, 4.0])\n",
        "arr_complex = np.array([1+2j, 3+4j])\n",
        "\n",
        "# Print the data types\n",
        "print(\"Data type of arr_int:\", arr_int.dtype)\n",
        "print(\"Data type of arr_float:\", arr_float.dtype)\n",
        "print(\"Data type of arr_complex:\", arr_complex.dtype)"
      ],
      "metadata": {
        "colab": {
          "base_uri": "https://localhost:8080/"
        },
        "id": "dm7kI0_i9v7s",
        "outputId": "10141223-8ad8-4eeb-a029-7e4c334bd8fc"
      },
      "execution_count": null,
      "outputs": [
        {
          "output_type": "stream",
          "name": "stdout",
          "text": [
            "Data type of arr_int: int64\n",
            "Data type of arr_float: float64\n",
            "Data type of arr_complex: complex128\n"
          ]
        }
      ]
    },
    {
      "cell_type": "markdown",
      "source": [
        "Importance of Data Types\n",
        "1.Memory Management:\n",
        "\n",
        "Efficient Storage: Different data types require different amounts of memory. For instance, np.float64 (64-bit floating point) uses more memory than np.float32 (32-bit floating point). Choosing the appropriate data type can help manage memory usage efficiently, especially when working with large datasets.\n",
        "Data Type Precision: The choice of data type affects precision. For example, using np.float32 instead of np.float64 reduces precision but also reduces memory consumption. This trade-off needs to be considered based on the requirements of the task.\n",
        "2.Performance:\n",
        "\n",
        "Computational Speed: Operations on arrays with smaller data types (like np.float32 or np.int32) can be faster due to less data being processed and transferred. However, this might come at the cost of precision. Operations on np.float64 are generally more accurate but can be slower.\n",
        "Hardware Compatibility: Certain hardware, like GPUs, might be optimized for specific data types. For example, GPUs often have special support for single-precision floating-point operations (np.float32), which can lead to performance gains.\n",
        "3.Compatibility and Interoperability:\n",
        "\n",
        "Consistency: Ensuring that all arrays in computations have compatible data types prevents unexpected results and errors. For example, mixing np.int32 with np.float64 can lead to type promotion and potential loss of precision.\n",
        "Integration: When working with other libraries or systems (e.g., interfacing with C/C++ code or using machine learning frameworks), data type consistency is crucial for seamless integration and data exchange."
      ],
      "metadata": {
        "id": "XZWEEE9190tU"
      }
    },
    {
      "cell_type": "markdown",
      "source": [
        "5. Define ndarrays in NumPy and explain their key features. How do they differ from standard Python lists?\n",
        "\n",
        "\n",
        "Ans:- ndarray stands for \"n-dimensional array,\" and it is the core data structure provided by NumPy for handling large and multi-dimensional arrays of data. Here’s a detailed overview of ndarray and how it compares to standard Python lists:\n",
        "\n",
        "Defining ndarray\n",
        "\n",
        "An ndarray is a central data structure in NumPy that represents a grid of values, all of the same type, indexed by a tuple of non-negative integers. The ndarray can be one-dimensional (like a list), two-dimensional (like a matrix), or n-dimensional (like a tensor).\n",
        "\n",
        "Creating an ndarray Example:"
      ],
      "metadata": {
        "id": "aUxWamidqwM4"
      }
    },
    {
      "cell_type": "code",
      "source": [
        "import numpy as np\n",
        "# Create a 1D ndarray\n",
        "arr_1d = np.array([1, 2, 3, 4, 5])\n",
        "\n",
        "# Create a 2D ndarray\n",
        "arr_2d = np.array([[1, 2, 3],\n",
        "                   [4, 5, 6],\n",
        "                   [7, 8, 9]])\n",
        "\n",
        "# Create a 3D ndarray\n",
        "arr_3d = np.array([[[1, 2], [3, 4]],\n",
        "                   [[5, 6], [7, 8]]])\n",
        "print(arr_1d.ndim)\n",
        "print(arr_2d.ndim)\n",
        "print(arr_3d.ndim)\n",
        "\n"
      ],
      "metadata": {
        "colab": {
          "base_uri": "https://localhost:8080/"
        },
        "id": "17oGzVkpq6CG",
        "outputId": "90ac0ad1-1501-49fa-aff5-30dedfbdcaec"
      },
      "execution_count": 2,
      "outputs": [
        {
          "output_type": "stream",
          "name": "stdout",
          "text": [
            "1\n",
            "2\n",
            "3\n"
          ]
        }
      ]
    },
    {
      "cell_type": "markdown",
      "source": [
        "Differences Between ndarray and Python Lists\n",
        "\n",
        "1.Homogeneity vs. Heterogeneity:\n",
        "\n",
        "Python Lists: Can store elements of different types (e.g., integers, strings, lists).\n",
        "ndarray: All elements must be of the same type.\n",
        "\n",
        "2.Performance:\n",
        "\n",
        "Python Lists: Operations on lists, especially with large data, can be slow because they require explicit loops and are not optimized for numerical operations.\n",
        "ndarray: Optimized for performance with support for vectorized operations, making numerical computations faster and more efficient.\n",
        "\n",
        "3Memory Usage:\n",
        "\n",
        "Python Lists: More memory overhead due to additional information stored with each element.\n",
        "ndarray: Uses less memory by storing data in contiguous blocks and only requiring a single type.\n",
        "\n",
        "4.Multi-dimensional Capability:\n",
        "\n",
        "Python Lists: Can be nested to create multi-dimensional structures, but this is not as efficient or straightforward as using NumPy arrays.\n",
        "ndarray: Directly supports multi-dimensional arrays with efficient operations.\n",
        "\n",
        "5.Mathematical Operations:\n",
        "Python Lists: Do not support element-wise mathematical operations natively. ndarray: Supports element-wise operations, linear algebra operations, and a wide array of mathematical functions.\n",
        "\n",
        "6.Shape and Size Attributes:\n",
        "\n",
        "Python Lists: Do not have built-in attributes for shape and size.\n",
        "ndarray: Has attributes like .shape, .ndim, and .size that provide detailed information about the array's dimensions and size."
      ],
      "metadata": {
        "id": "wjxBnUPx94EG"
      }
    },
    {
      "cell_type": "markdown",
      "source": [
        "6. Analyze the performance benefits of NumPy arrays over Python lists for large-scale numerical operations\n",
        "\n",
        "\n",
        "Ans:- NumPy arrays provide substantial performance benefits over Python lists for large-scale numerical operations. These advantages stem from several factors related to memory management, computational efficiency, and optimized implementations. Here’s a detailed analysis of why NumPy arrays are preferred for large-scale numerical operations:\n",
        "\n",
        "Performance Benefits of NumPy Arrays\n",
        "\n",
        "1.Efficient Memory Usage:\n",
        "\n",
        "Contiguous Memory Allocation: NumPy arrays use contiguous blocks of memory, which reduces overhead and fragmentation compared to Python lists, where each element can be a separate object with additional metadata.\n",
        "Homogeneous Data Types: NumPy arrays store elements of the same data type, allowing for compact, uniform storage. This avoids the overhead associated with storing different types type-checking that Python lists handle.\n",
        "\n",
        "2.Vectorized Operations:\n",
        "\n",
        "Element-wise Operations: NumPy supports vectorized operations, where operations are performed element-wise directly on arrays. This eliminates the need for explicit Python loops, which can be slow due to Python's dynamic typing and interpreter overhead.\n",
        "\n",
        "Optimized Computations: NumPy operations are implemented in compiled C and Fortran code, which can leverage low-level optimizations and hardware acceleration (e.g., SIMD instructions), resulting in significant speedups for mathematical computations.\n",
        "\n",
        "3.Broadcasting:\n",
        "\n",
        "Efficient Handling of Different Shapes: NumPy’s broadcasting mechanism allows arrays of different shapes to be used together in operations without explicit looping or reshaping. This avoids unnecessary data duplication and manipulation, improving performance and memory efficiency.\n",
        "\n",
        "4.Reduced Overhead:\n",
        "\n",
        "Fixed Data Types: Unlike Python lists, which store objects with overhead, NumPy arrays store data in a single, contiguous block with a fixed data type. This reduces memory overhead and improves access speed.\n",
        "Optimized Algorithms: Many mathematical functions and operations in NumPy are implemented using highly optimized algorithms tailored for performance, leveraging efficient numerical libraries like BLAS and LAPACK.\n",
        "\n",
        "5.Parallelization and Hardware Utilization:\n",
        "\n",
        "Parallel Processing: NumPy operations can be parallelized to take advantage of multi-core processors and vectorized hardware instructions, speeding up computations significantly.\n",
        "Integration with Libraries: NumPy is designed to work well with other scientific libraries that can further optimize computations, such as those leveraging GPU acceleration (e.g., CuPy).\n",
        "\n",
        "6.Advanced Indexing and Slicing:\n",
        "\n",
        "Efficient Data Manipulation: NumPy’s advanced indexing and slicing mechanisms allow for efficient extraction and manipulation of array elements without the need for explicit loops or complex data structures, which can be slow with Python lists.\n",
        "\n",
        "Comparison with Python Lists\n",
        "\n",
        "1. Memory and Performance:\n",
        "\n",
        "Python Lists: Each element in a Python list is a separate object with additional overhead. Lists are dynamically typed, meaning operations on lists involve frequent type-checking and method calls, which add to the performance cost.\n",
        "NumPy Arrays: Arrays use contiguous memory blocks and fixed data types, allowing for faster access and manipulation. Operations are performed in compiled code, which is much faster than Python's interpreted operations.\n",
        "\n",
        "2. Computational Efficiency:\n",
        "\n",
        "Python Lists: Operations such as element-wise additions or multiplications require explicit loops in Python, which are slow compared to NumPy’s optimized, vectorized operations.\n",
        "NumPy Arrays: Operations are vectorized, reducing the need for explicit looping and enabling faster execution through low-level optimizations.\n",
        "\n",
        "3. Scaling:\n",
        "\n",
        "Python Lists: Performance degrades with the size of the list, particularly for numerical computations that require complex operations or large-scale data handling.\n",
        "NumPy Arrays: NumPy arrays scale efficiently with data size, thanks to their optimized memory usage and computational efficiency. They handle large datasets and complex operations with ease.\n",
        "Example\n",
        "\n",
        "Here’s a simple example comparing the performance of NumPy arrays and Python lists for element-wise addition:\n",
        "\n",
        "Python Lists:"
      ],
      "metadata": {
        "id": "Pt3UPKakxwio"
      }
    },
    {
      "cell_type": "code",
      "source": [
        "import time\n",
        "\n",
        "# Create two large lists\n",
        "list1 = list(range(1000000))\n",
        "list2 = list(range(1000000))\n",
        "\n",
        "# Measure time for element-wise addition\n",
        "start_time = time.time()\n",
        "result = [x + y for x, y in zip(list1, list2)]\n",
        "end_time = time.time()\n",
        "\n",
        "print(\"Python list addition time:\", end_time - start_time)\n"
      ],
      "metadata": {
        "colab": {
          "base_uri": "https://localhost:8080/"
        },
        "id": "kMye4bsFx-4g",
        "outputId": "919f2cd6-31b7-4695-8496-31cb055f33a1"
      },
      "execution_count": 3,
      "outputs": [
        {
          "output_type": "stream",
          "name": "stdout",
          "text": [
            "Python list addition time: 0.5029587745666504\n"
          ]
        }
      ]
    },
    {
      "cell_type": "code",
      "source": [
        "# Create two large numpy arrays\n",
        "arr1 = np.arange(1000000)\n",
        "arr2 = np.arange(1000000)\n",
        "\n",
        "# Measure time for element-wise addition\n",
        "start_time = time.time()\n",
        "result = arr1 + arr2\n",
        "end_time = time.time()\n",
        "\n",
        "print(\"NumPy array addition time:\", end_time - start_time)\n"
      ],
      "metadata": {
        "colab": {
          "base_uri": "https://localhost:8080/"
        },
        "id": "ZkIvfye-yDTr",
        "outputId": "cb15765d-3d44-4173-f894-6ab23bfaaafc"
      },
      "execution_count": 4,
      "outputs": [
        {
          "output_type": "stream",
          "name": "stdout",
          "text": [
            "NumPy array addition time: 0.014918327331542969\n"
          ]
        }
      ]
    },
    {
      "cell_type": "markdown",
      "source": [
        "7. Compare vstack() and hstack() functions in NumPy. Provide examples demonstrating their usage and output\n",
        "\n",
        "\n",
        "Ans:-In NumPy, vstack() and hstack() are functions used to stack arrays along different axes. Here's a detailed comparison of these functions, along with examples demonstrating their usage and output.\n",
        "\n",
        "np.vstack() Purpose: Stacks arrays vertically (along the rows). It combines arrays along the first axis (axis=0), resulting in an array where the second axis (columns) remains the same, and the arrays are appended row-wise.\n",
        "\n",
        "Usage:"
      ],
      "metadata": {
        "id": "dQyxJLC9yMOQ"
      }
    },
    {
      "cell_type": "code",
      "source": [
        "arr1 = np.array([[1, 2, 3], [4, 5, 6]])\n",
        "arr2 = np.array([[7, 8, 9], [10, 11, 12]])\n",
        "\n",
        "# Stack arrays vertically\n",
        "vstack_result = np.vstack((arr1, arr2))\n",
        "\n",
        "print(\"Result of np.vstack:\")\n",
        "print(vstack_result)\n"
      ],
      "metadata": {
        "colab": {
          "base_uri": "https://localhost:8080/"
        },
        "id": "U_wEhCV2yWT3",
        "outputId": "9adbbcb0-ff7f-4b8e-db2f-c9310351274b"
      },
      "execution_count": 5,
      "outputs": [
        {
          "output_type": "stream",
          "name": "stdout",
          "text": [
            "Result of np.vstack:\n",
            "[[ 1  2  3]\n",
            " [ 4  5  6]\n",
            " [ 7  8  9]\n",
            " [10 11 12]]\n"
          ]
        }
      ]
    },
    {
      "cell_type": "markdown",
      "source": [
        "np.hstack()\n",
        "\n",
        "Purpose: Stacks arrays horizontally (along the columns). It combines arrays along the second axis (axis=1), resulting in an array where the first axis (rows) remains the same, and the arrays are appended column-wise.\n",
        "\n",
        "Usage:\n"
      ],
      "metadata": {
        "id": "9vjC__6_ybQY"
      }
    },
    {
      "cell_type": "code",
      "source": [
        "# Create some sample arrays\n",
        "arr1 = np.array([[1, 2, 3], [4, 5, 6]])\n",
        "arr2 = np.array([[7, 8], [9, 10]])\n",
        "\n",
        "# Stack arrays horizontally\n",
        "hstack_result = np.hstack((arr1, arr2))\n",
        "\n",
        "print(\"Result of np.hstack:\")\n",
        "print(hstack_result)"
      ],
      "metadata": {
        "colab": {
          "base_uri": "https://localhost:8080/"
        },
        "id": "JrVipWyTyfAK",
        "outputId": "9ede0575-c765-4f49-cde6-0d1c5c53718b"
      },
      "execution_count": 6,
      "outputs": [
        {
          "output_type": "stream",
          "name": "stdout",
          "text": [
            "Result of np.hstack:\n",
            "[[ 1  2  3  7  8]\n",
            " [ 4  5  6  9 10]]\n"
          ]
        }
      ]
    },
    {
      "cell_type": "markdown",
      "source": [
        "8. Explain the differences between fliplr() and flipud() methods in NumPy, including their effects on various array dimensions.\n",
        "\n",
        "Ans:- In NumPy, fliplr() and flipud() are methods used to reverse the order of elements along specific dimensions of arrays. They are particularly useful for flipping arrays horizontally or vertically. Here’s a detailed explanation of each method and their effects on arrays of different dimensions:\n",
        "\n",
        "np.fliplr()\n",
        "Purpose: Flips an array left-to-right (i.e., reverses the order of columns).\n",
        "\n",
        "Usage:"
      ],
      "metadata": {
        "id": "xWuQlReBylex"
      }
    },
    {
      "cell_type": "code",
      "source": [
        "arr_2d = np.array([[1, 2, 3],\n",
        "                   [4, 5, 6],\n",
        "                   [7, 8, 9]])\n",
        "\n",
        "# Flip array left-to-right\n",
        "fliplr_result = np.fliplr(arr_2d)\n",
        "\n",
        "print(\"Result of np.fliplr:\")\n",
        "print(fliplr_result)"
      ],
      "metadata": {
        "colab": {
          "base_uri": "https://localhost:8080/"
        },
        "id": "JGgpNSKbyk2i",
        "outputId": "0158ab4d-e8ee-4d91-cb1f-53112703236b"
      },
      "execution_count": 7,
      "outputs": [
        {
          "output_type": "stream",
          "name": "stdout",
          "text": [
            "Result of np.fliplr:\n",
            "[[3 2 1]\n",
            " [6 5 4]\n",
            " [9 8 7]]\n"
          ]
        }
      ]
    },
    {
      "cell_type": "markdown",
      "source": [
        "np.flipud()\n",
        "Purpose: Flips an array up-to-down (i.e., reverses the order of rows).\n",
        "\n",
        "Usage:"
      ],
      "metadata": {
        "id": "rmIHfz36yvM4"
      }
    },
    {
      "cell_type": "code",
      "source": [
        "# Create a 2D array\n",
        "arr_2d = np.array([[1, 2, 3],\n",
        "                   [4, 5, 6],\n",
        "                   [7, 8, 9]])\n",
        "\n",
        "# Flip array up-to-down\n",
        "flipud_result = np.flipud(arr_2d)\n",
        "\n",
        "print(\"Result of np.flipud:\")\n",
        "print(flipud_result)"
      ],
      "metadata": {
        "colab": {
          "base_uri": "https://localhost:8080/"
        },
        "id": "_c9ND6XEyzxZ",
        "outputId": "df22c6bd-c9c8-44fd-f47c-07fbebbcf13d"
      },
      "execution_count": 8,
      "outputs": [
        {
          "output_type": "stream",
          "name": "stdout",
          "text": [
            "Result of np.flipud:\n",
            "[[7 8 9]\n",
            " [4 5 6]\n",
            " [1 2 3]]\n"
          ]
        }
      ]
    },
    {
      "cell_type": "markdown",
      "source": [
        "Comparison of fliplr() and flipud()\n",
        "\n",
        "1.Dimensional Effect:\n",
        "\n",
        "fliplr(): Affects the columns of a 2D array. It reverses the order of elements along the horizontal axis.\n",
        "flipud(): Affects the rows of a 2D array. It reverses the order of elements along the vertical axis.\n",
        "\n",
        "Effect on 1D Arrays:\n",
        "\n",
        "fliplr(): Not defined for 1D arrays. *flipud(): Reverses the 1D array, similar to using arr[::-1].\n",
        "\n",
        "Effect on 3D Arrays:\n",
        "\n",
        "fliplr(): Flips each 2D slice along the horizontal axis (last two dimensions).\n",
        "flipud(): Flips each 2D slice along the vertical axis (first dimension)."
      ],
      "metadata": {
        "id": "oHQAtjNLy7g3"
      }
    },
    {
      "cell_type": "markdown",
      "source": [
        "9. Discuss the functionality of the array_split() method in NumPy. How does it handle uneven splits?\n",
        "\n",
        "The array_split() method in NumPy is a powerful function used to split an array into multiple sub-arrays. It is particularly useful for dividing arrays into chunks when working with large datasets or when you need to partition data for batch processing.\n",
        "\n",
        "Functionality of array_split()\n",
        "\n",
        "The array_split() function divides an array into multiple sub-arrays based on specified criteria. Here’s a breakdown of its functionality and how it handles uneven splits:\n",
        "\n",
        "Syntax: numpy.array_split(ary, indices_or_sections, axis=0)\n",
        "\n",
        "ary: The input array to be split.\n",
        "\n",
        "indices_or_sections: Determines how the array is split. It can be:\n",
        "An integer: The number of equal-sized chunks to return.\n",
        "A 1-D array of sorted integers: Specifies the indices at which to split the array.\n",
        "\n",
        "A list of integers: Specifies the indices at which to split the array. axis: The axis along which to split the array. The default is 0 (rows).\n",
        "Handling Uneven Splits\n",
        "\n",
        "When the number of elements in the array cannot be evenly divided by the specified number of sections, array_split() handles the uneven splits by distributing the extra elements as evenly as possible among the resulting sub-arrays.\n",
        "\n",
        "1. Splitting an Array into a Fixed Number of Chunks:\n",
        "\n",
        "Example:"
      ],
      "metadata": {
        "id": "CVM5Ku8Lzgtj"
      }
    },
    {
      "cell_type": "code",
      "source": [
        "# Create a 1D array\n",
        "arr = np.array([1, 2, 3, 4, 5, 6, 7, 8, 9])\n",
        "\n",
        "# Split into 3 equal chunks\n",
        "chunks = np.array_split(arr, 3)\n",
        "\n",
        "print(\"Chunks after splitting into 3 parts:\")\n",
        "for chunk in chunks:\n",
        "    print(chunk)"
      ],
      "metadata": {
        "colab": {
          "base_uri": "https://localhost:8080/"
        },
        "id": "FnSwtEf3zuYE",
        "outputId": "675f8d68-7c31-4285-d501-bac37c8c3680"
      },
      "execution_count": 9,
      "outputs": [
        {
          "output_type": "stream",
          "name": "stdout",
          "text": [
            "Chunks after splitting into 3 parts:\n",
            "[1 2 3]\n",
            "[4 5 6]\n",
            "[7 8 9]\n"
          ]
        }
      ]
    },
    {
      "cell_type": "markdown",
      "source": [
        "2. Splitting an Array into a Fixed Number of Chunks (Uneven Split):\n",
        "\n",
        "Example:"
      ],
      "metadata": {
        "id": "-Dhydgmxzx7W"
      }
    },
    {
      "cell_type": "code",
      "source": [
        "# Create a 1D array\n",
        "arr = np.array([1, 2, 3, 4, 5, 6, 7, 8, 9, 10])\n",
        "\n",
        "# Split into 4 chunks\n",
        "chunks = np.array_split(arr, 4)\n",
        "\n",
        "print(\"Chunks after splitting into 4 parts:\")\n",
        "for chunk in chunks:\n",
        "    print(chunk)\n"
      ],
      "metadata": {
        "colab": {
          "base_uri": "https://localhost:8080/"
        },
        "id": "dpdLlCdCz1MT",
        "outputId": "d83cb216-f9aa-49b3-9624-630916ce8b7f"
      },
      "execution_count": 10,
      "outputs": [
        {
          "output_type": "stream",
          "name": "stdout",
          "text": [
            "Chunks after splitting into 4 parts:\n",
            "[1 2 3]\n",
            "[4 5 6]\n",
            "[7 8]\n",
            "[ 9 10]\n"
          ]
        }
      ]
    },
    {
      "cell_type": "markdown",
      "source": [
        "3. Splitting an Array by Specified Indices:\n",
        "\n",
        "Example:"
      ],
      "metadata": {
        "id": "PEL6A1d3z5P1"
      }
    },
    {
      "cell_type": "code",
      "source": [
        "# Create a 1D array\n",
        "arr = np.array([1, 2, 3, 4, 5, 6, 7, 8, 9])\n",
        "\n",
        "# Split by indices [2, 5]\n",
        "chunks = np.array_split(arr, [2, 5])\n",
        "\n",
        "print(\"Chunks after splitting by indices [2, 5]:\")\n",
        "for chunk in chunks:\n",
        "    print(chunk)\n"
      ],
      "metadata": {
        "colab": {
          "base_uri": "https://localhost:8080/"
        },
        "id": "-7dASNR6z8Yb",
        "outputId": "38a87c56-93dc-4f5a-d465-da7ec51b2439"
      },
      "execution_count": 11,
      "outputs": [
        {
          "output_type": "stream",
          "name": "stdout",
          "text": [
            "Chunks after splitting by indices [2, 5]:\n",
            "[1 2]\n",
            "[3 4 5]\n",
            "[6 7 8 9]\n"
          ]
        }
      ]
    },
    {
      "cell_type": "markdown",
      "source": [
        "10. Explain the concepts of vectorization and broadcasting in NumPy. How do they contribute to efficient array operations?\n",
        "\n",
        "In NumPy, vectorization and broadcasting are key concepts that significantly enhance the efficiency and performance of array operations. They enable NumPy to perform operations on arrays in a highly optimized manner, minimizing the need for explicit loops and leveraging low-level optimizations. Here’s a detailed explanation of each concept and how they contribute to efficient array operations:\n",
        "\n",
        "Vectorization\n",
        "\n",
        "Concept: Vectorization refers to the process of converting operations that would traditionally be performed in a loop into a form that can be executed simultaneously over entire arrays or vectors. This is achieved by using NumPy's built-in operations, which are implemented in compiled code (typically C or Fortran), allowing for fast execution.\n",
        "\n",
        "How It Works:\n",
        "\n",
        "Element-wise Operations: NumPy allows operations to be applied element-wise to arrays. For example, adding two arrays or multiplying an array by a scalar. Optimized Implementations: These operations are performed using highly optimized routines that take advantage of hardware-level parallelism and efficient memory access patterns. Example:\n",
        "\n",
        "python"
      ],
      "metadata": {
        "id": "zsssCADe0LNG"
      }
    },
    {
      "cell_type": "code",
      "source": [
        "# Create two large arrays\n",
        "arr1 = np.random.rand(1000000)\n",
        "arr2 = np.random.rand(1000000)\n",
        "\n",
        "# Vectorized operation: element-wise addition\n",
        "result = arr1 + arr2\n",
        "print(result)\n",
        ""
      ],
      "metadata": {
        "colab": {
          "base_uri": "https://localhost:8080/"
        },
        "id": "jbofZr4U0cFx",
        "outputId": "952f2ba3-71d3-4349-f0c5-7001515cd852"
      },
      "execution_count": 13,
      "outputs": [
        {
          "output_type": "stream",
          "name": "stdout",
          "text": [
            "[0.87568166 1.89090994 0.5025839  ... 0.89190052 1.01196168 0.62964294]\n"
          ]
        }
      ]
    },
    {
      "cell_type": "markdown",
      "source": [
        "Broadcasting\n",
        "Concept: Broadcasting is a technique used to perform operations on arrays of different shapes in a way that makes them compatible for element-wise operations. It allows NumPy to handle arrays with different dimensions and sizes without explicitly reshaping them.\n",
        "\n",
        "How It Works:\n",
        "\n",
        "Rules: Broadcasting works by aligning the shapes of arrays according to certain rules: If the arrays have different numbers of dimensions, the smaller array is padded with ones on the left side until both arrays have the same number of dimensions. The arrays are then compared element-wise from the last dimension to the first. If the dimensions are not the same, the smaller array is broadcasted to match the shape of the larger array.\n",
        "\n",
        "Broadcasted Dimensions:\n",
        "\n",
        "If dimensions are different but compatible (i.e., one is 1 or the same), the smaller dimension is stretched to match the larger dimension. Example:"
      ],
      "metadata": {
        "id": "4q27Cs8q0g-R"
      }
    },
    {
      "cell_type": "code",
      "source": [
        "# Create a 2D array\n",
        "arr_2d = np.array([[1, 2, 3],\n",
        "                   [4, 5, 6]])\n",
        "\n",
        "# Create a 1D array\n",
        "arr_1d = np.array([10, 20, 30])\n",
        "\n",
        "# Broadcast arr_1d to the shape of arr_2d\n",
        "result = arr_2d + arr_1d\n",
        "\n",
        "print(\"Result of broadcasting:\")\n",
        "print(result)\n"
      ],
      "metadata": {
        "colab": {
          "base_uri": "https://localhost:8080/"
        },
        "id": "VODM2F8C0mW8",
        "outputId": "37e35a69-e5a0-438e-9f48-3fc1356a5846"
      },
      "execution_count": 14,
      "outputs": [
        {
          "output_type": "stream",
          "name": "stdout",
          "text": [
            "Result of broadcasting:\n",
            "[[11 22 33]\n",
            " [14 25 36]]\n"
          ]
        }
      ]
    },
    {
      "cell_type": "markdown",
      "source": [
        "##Practical QUESTIONS"
      ],
      "metadata": {
        "id": "K-zc92dU4ILO"
      }
    },
    {
      "cell_type": "markdown",
      "source": [
        "1.Create a 3x3 NumPy array with random integers between 1 and 100. Then, interchange its rows and columns."
      ],
      "metadata": {
        "id": "VQVNCJgX4Ra8"
      }
    },
    {
      "cell_type": "code",
      "source": [
        "import numpy as np\n",
        "\n",
        "array = np.random.randint(1, 101, size=(3, 3))\n",
        "print(\"Original Array:\")\n",
        "print(array)\n",
        "\n",
        "# Swap the first and second rows\n",
        "array[[0, 1]] = array[[1, 0]]\n",
        "print(\"\\nArray after swapping rows:\")\n",
        "print(array)\n",
        "\n",
        "# Swap the first and second columns\n",
        "array[:, [0, 1]] = array[:, [1, 0]]\n",
        "print(\"\\nArray after swapping columns:\")\n",
        "print(array)\n"
      ],
      "metadata": {
        "id": "faPzRiiGA47S",
        "colab": {
          "base_uri": "https://localhost:8080/"
        },
        "outputId": "2082f327-7856-40ae-9424-928a7caa7e29"
      },
      "execution_count": null,
      "outputs": [
        {
          "output_type": "stream",
          "name": "stdout",
          "text": [
            "Original Array:\n",
            "[[32 35 85]\n",
            " [67 82 18]\n",
            " [51 97 90]]\n",
            "\n",
            "Array after swapping rows:\n",
            "[[67 82 18]\n",
            " [32 35 85]\n",
            " [51 97 90]]\n",
            "\n",
            "Array after swapping columns:\n",
            "[[82 67 18]\n",
            " [35 32 85]\n",
            " [97 51 90]]\n"
          ]
        }
      ]
    },
    {
      "cell_type": "markdown",
      "source": [
        "2.Generate a 1D NumPy array with 10 elements. Reshape it into a 2x5 array, then into a 5x2 array."
      ],
      "metadata": {
        "id": "WK5nb4v35L5M"
      }
    },
    {
      "cell_type": "code",
      "source": [
        "# Generate a 1D NumPy array with 10 elements\n",
        "array_1d = np.arange(10)\n",
        "print(\"Original 1D Array:\")\n",
        "print(array_1d)\n",
        "\n",
        "# Reshape the 1D array into a 2x5 array\n",
        "array_2x5 = array_1d.reshape(2, 5)\n",
        "print(\"\\nReshaped into 2x5 Array:\")\n",
        "print(array_2x5)\n",
        "\n",
        "# Reshape the 1D array into a 5x2 array\n",
        "array_5x2 = array_1d.reshape(5, 2)\n",
        "print(\"\\nReshaped into 5x2 Array:\")\n",
        "print(array_5x2)\n",
        "\n"
      ],
      "metadata": {
        "colab": {
          "base_uri": "https://localhost:8080/"
        },
        "id": "IF9jjgpO5Gok",
        "outputId": "2670fbe0-db0a-4689-ff6c-79ea671937a8"
      },
      "execution_count": null,
      "outputs": [
        {
          "output_type": "stream",
          "name": "stdout",
          "text": [
            "Original 1D Array:\n",
            "[0 1 2 3 4 5 6 7 8 9]\n",
            "\n",
            "Reshaped into 2x5 Array:\n",
            "[[0 1 2 3 4]\n",
            " [5 6 7 8 9]]\n",
            "\n",
            "Reshaped into 5x2 Array:\n",
            "[[0 1]\n",
            " [2 3]\n",
            " [4 5]\n",
            " [6 7]\n",
            " [8 9]]\n"
          ]
        }
      ]
    },
    {
      "cell_type": "markdown",
      "source": [
        "3.Create a 4x4 NumPy array with random float values. Add a border of zeros around it, resulting in a 6x6 array."
      ],
      "metadata": {
        "id": "rxbLGowJ5T9u"
      }
    },
    {
      "cell_type": "code",
      "source": [
        "\n",
        "# Create a 4x4 array with random float values\n",
        "array_4x4 = np.random.random((4, 4))\n",
        "print(\"Original 4x4 Array:\")\n",
        "print(array_4x4)\n",
        "\n",
        "# Add a border of zeros around the 4x4 array\n",
        "array_6x6 = np.pad(array_4x4, pad_width=1, mode='constant', constant_values=0)\n",
        "print(\"\\n6x6 Array with Zero Border:\")\n",
        "print(array_6x6)\n",
        "\n"
      ],
      "metadata": {
        "colab": {
          "base_uri": "https://localhost:8080/"
        },
        "id": "se_FZKOv5SPX",
        "outputId": "4cdf309c-d88c-4238-9b51-9cf3258acd57"
      },
      "execution_count": null,
      "outputs": [
        {
          "output_type": "stream",
          "name": "stdout",
          "text": [
            "Original 4x4 Array:\n",
            "[[0.5657587  0.75852221 0.37098498 0.53045848]\n",
            " [0.29539238 0.46601429 0.50819995 0.35368901]\n",
            " [0.3412618  0.14633696 0.41871312 0.70937285]\n",
            " [0.17669883 0.42253152 0.55192938 0.52727589]]\n",
            "\n",
            "6x6 Array with Zero Border:\n",
            "[[0.         0.         0.         0.         0.         0.        ]\n",
            " [0.         0.5657587  0.75852221 0.37098498 0.53045848 0.        ]\n",
            " [0.         0.29539238 0.46601429 0.50819995 0.35368901 0.        ]\n",
            " [0.         0.3412618  0.14633696 0.41871312 0.70937285 0.        ]\n",
            " [0.         0.17669883 0.42253152 0.55192938 0.52727589 0.        ]\n",
            " [0.         0.         0.         0.         0.         0.        ]]\n"
          ]
        }
      ]
    },
    {
      "cell_type": "markdown",
      "source": [
        "4.Using NumPy, create an array of integers from 10 to 60 with a step of 5"
      ],
      "metadata": {
        "id": "c93o1Z7N5xd3"
      }
    },
    {
      "cell_type": "code",
      "source": [
        "array = np.arange(10, 61, 5)\n",
        "print(array)\n"
      ],
      "metadata": {
        "colab": {
          "base_uri": "https://localhost:8080/"
        },
        "id": "C9KvAjOb5wLC",
        "outputId": "0ac1b167-7a63-499d-f152-2206711dde0c"
      },
      "execution_count": null,
      "outputs": [
        {
          "output_type": "stream",
          "name": "stdout",
          "text": [
            "[10 15 20 25 30 35 40 45 50 55 60]\n"
          ]
        }
      ]
    },
    {
      "cell_type": "markdown",
      "source": [
        "5.Create a NumPy array of strings ['python', 'numpy', 'pandas']. Apply different case transformations (uppercase, lowercase, title case, etc.) to each element"
      ],
      "metadata": {
        "id": "fC4RRMqW5-hV"
      }
    },
    {
      "cell_type": "code",
      "source": [
        "# Create a NumPy array of strings\n",
        "array = np.array(['pwskills', 'data', 'analaytics'])\n",
        "print(\"Original Array:\")\n",
        "print(array)\n",
        "\n",
        "# Apply uppercase transformation\n",
        "uppercase_array = np.char.upper(array)\n",
        "print(\"\\nUppercase Array:\")\n",
        "print(uppercase_array)\n",
        "\n",
        "# Apply lowercase transformation (although the original array is already in lowercase)\n",
        "lowercase_array = np.char.lower(array)\n",
        "print(\"\\nLowercase Array:\")\n",
        "print(lowercase_array)\n",
        "\n",
        "# Apply title case transformation\n",
        "title_case_array = np.char.title(array)\n",
        "print(\"\\nTitle Case Array:\")\n",
        "print(title_case_array)\n",
        "\n",
        "# Apply capitalize transformation\n",
        "capitalize_array = np.char.capitalize(array)\n",
        "print(\"\\nCapitalize Array:\")\n",
        "print(capitalize_array)"
      ],
      "metadata": {
        "colab": {
          "base_uri": "https://localhost:8080/"
        },
        "id": "UeD46Crw57H9",
        "outputId": "ebdc65a8-c5ad-49f9-e1b0-398f6f31ae96"
      },
      "execution_count": null,
      "outputs": [
        {
          "output_type": "stream",
          "name": "stdout",
          "text": [
            "Original Array:\n",
            "['pwskills' 'data' 'analaytics']\n",
            "\n",
            "Uppercase Array:\n",
            "['PWSKILLS' 'DATA' 'ANALAYTICS']\n",
            "\n",
            "Lowercase Array:\n",
            "['pwskills' 'data' 'analaytics']\n",
            "\n",
            "Title Case Array:\n",
            "['Pwskills' 'Data' 'Analaytics']\n",
            "\n",
            "Capitalize Array:\n",
            "['Pwskills' 'Data' 'Analaytics']\n"
          ]
        }
      ]
    },
    {
      "cell_type": "markdown",
      "source": [
        "6. Generate a NumPy array of words. Insert a space between each character of every word in the array."
      ],
      "metadata": {
        "id": "Osf32W_36Mgg"
      }
    },
    {
      "cell_type": "code",
      "source": [
        "words_array = np.array(['course', 'numpy', 'assignment'])\n",
        "print(\"Original Array:\")\n",
        "print(words_array)\n",
        "\n",
        "# Insert a space between each character of every word\n",
        "spaced_words_array = np.char.join(' ', words_array)\n",
        "print(\"\\nArray with Spaces Between Characters:\")\n",
        "print(spaced_words_array)"
      ],
      "metadata": {
        "colab": {
          "base_uri": "https://localhost:8080/"
        },
        "id": "OAMl3lHe6IIb",
        "outputId": "fa615114-6edc-4585-a836-1bdc0cc4bdb9"
      },
      "execution_count": null,
      "outputs": [
        {
          "output_type": "stream",
          "name": "stdout",
          "text": [
            "Original Array:\n",
            "['course' 'numpy' 'assignment']\n",
            "\n",
            "Array with Spaces Between Characters:\n",
            "['c o u r s e' 'n u m p y' 'a s s i g n m e n t']\n"
          ]
        }
      ]
    },
    {
      "cell_type": "markdown",
      "source": [
        "7.Create two 2D NumPy arrays and perform element-wise addition, subtraction, multiplication, and division.\n"
      ],
      "metadata": {
        "id": "h1uhUlTx613S"
      }
    },
    {
      "cell_type": "code",
      "source": [
        "array1 = np.array([[3, 2, 7], [4, 8, 9]])\n",
        "array2 = np.array([[4,5,1], [2,5,6]])\n",
        "\n",
        "print(\"Array 1:\")\n",
        "print(array1)\n",
        "print(\"\\nArray 2:\")\n",
        "print(array2)\n",
        "\n",
        "# Element-wise addition\n",
        "addition = np.add(array1, array2)\n",
        "print(\"\\nElement-wise Addition:\")\n",
        "print(addition)\n",
        "\n",
        "# Element-wise subtraction\n",
        "subtraction = np.subtract(array1, array2)\n",
        "print(\"\\nElement-wise Subtraction:\")\n",
        "print(subtraction)\n",
        "\n",
        "# Element-wise multiplication\n",
        "multiplication = np.multiply(array1, array2)\n",
        "print(\"\\nElement-wise Multiplication:\")\n",
        "print(multiplication)\n",
        "\n",
        "# Element-wise division\n",
        "division = np.divide(array1, array2)\n",
        "print(\"\\nElement-wise Division:\")\n",
        "print(division)"
      ],
      "metadata": {
        "colab": {
          "base_uri": "https://localhost:8080/"
        },
        "id": "WPXHCpUk6Ryb",
        "outputId": "7cb955a9-d37b-4c5b-99ee-ddf1067eb96e"
      },
      "execution_count": null,
      "outputs": [
        {
          "output_type": "stream",
          "name": "stdout",
          "text": [
            "Array 1:\n",
            "[[3 2 7]\n",
            " [4 8 9]]\n",
            "\n",
            "Array 2:\n",
            "[[4 5 1]\n",
            " [2 5 6]]\n",
            "\n",
            "Element-wise Addition:\n",
            "[[ 7  7  8]\n",
            " [ 6 13 15]]\n",
            "\n",
            "Element-wise Subtraction:\n",
            "[[-1 -3  6]\n",
            " [ 2  3  3]]\n",
            "\n",
            "Element-wise Multiplication:\n",
            "[[12 10  7]\n",
            " [ 8 40 54]]\n",
            "\n",
            "Element-wise Division:\n",
            "[[0.75 0.4  7.  ]\n",
            " [2.   1.6  1.5 ]]\n"
          ]
        }
      ]
    },
    {
      "cell_type": "markdown",
      "source": [
        "8.Use NumPy to create a 5x5 identity matrix, then extract its diagonal elements."
      ],
      "metadata": {
        "id": "WrEJiL4M7DYs"
      }
    },
    {
      "cell_type": "code",
      "source": [
        "identity_matrix = np.eye(5)\n",
        "print(\"5x5 Identity Matrix:\")\n",
        "print(identity_matrix)\n",
        "\n",
        "# Extract the diagonal elements\n",
        "diagonal_elements = np.diag(identity_matrix)\n",
        "print(\"\\nDiagonal Elements:\")\n",
        "print(diagonal_elements)"
      ],
      "metadata": {
        "colab": {
          "base_uri": "https://localhost:8080/"
        },
        "id": "RGcMF-_i6_ID",
        "outputId": "951afd01-ebb3-482e-ce1a-d7f8e552c5f4"
      },
      "execution_count": null,
      "outputs": [
        {
          "output_type": "stream",
          "name": "stdout",
          "text": [
            "5x5 Identity Matrix:\n",
            "[[1. 0. 0. 0. 0.]\n",
            " [0. 1. 0. 0. 0.]\n",
            " [0. 0. 1. 0. 0.]\n",
            " [0. 0. 0. 1. 0.]\n",
            " [0. 0. 0. 0. 1.]]\n",
            "\n",
            "Diagonal Elements:\n",
            "[1. 1. 1. 1. 1.]\n"
          ]
        }
      ]
    },
    {
      "cell_type": "markdown",
      "source": [
        "9.Generate a NumPy array of 100 random integers between 0 and 1000. Find and display all prime numbers in this array\n"
      ],
      "metadata": {
        "id": "vee_PsqQ7J8P"
      }
    },
    {
      "cell_type": "code",
      "source": [
        "# Generate a NumPy array of 100 random integers between 0 and 1000\n",
        "random_array = np.random.randint(0, 1000, size=100)\n",
        "print(\"Random Array:\")\n",
        "print(random_array)\n",
        "\n",
        "def is_prime(n):\n",
        "    \"\"\"Check if a number is a prime number.\"\"\"\n",
        "    if n <= 1:\n",
        "        return False\n",
        "    if n <= 3:\n",
        "        return True\n",
        "    if n % 2 == 0 or n % 3 == 0:\n",
        "        return False\n",
        "    i = 5\n",
        "    while i * i <= n:\n",
        "        if n % i == 0 or n % (i + 2) == 0:\n",
        "            return False\n",
        "        i += 6\n",
        "    return True\n",
        "\n",
        "# Find all prime numbers in the array\n",
        "primes = np.array([x for x in random_array if is_prime(x)])\n",
        "print(\"\\nPrime Numbers in Array:\")\n",
        "print(primes)"
      ],
      "metadata": {
        "colab": {
          "base_uri": "https://localhost:8080/"
        },
        "id": "aNN_sc2Z7HFc",
        "outputId": "bddcf145-53d9-4504-934a-cac1d12bbc6a"
      },
      "execution_count": null,
      "outputs": [
        {
          "output_type": "stream",
          "name": "stdout",
          "text": [
            "Random Array:\n",
            "[237 431 488 458 115 386 359 795 934 384 185 712 972 932 284 236  29 948\n",
            " 415 527 539 839 303 922 976 768 483 752 200 464 425  97 124 356 654 535\n",
            " 788 407 990 839 490  34  50 743 546 477 106 587 922 314 954 505 577 927\n",
            "  51 572 594 270 933 323 711 215 153 424 999  37 973 831 181 315 669 853\n",
            " 227 596 713 902 183 304 176 410 602 102 795  97 636 167 628 299 951 201\n",
            " 799 269  28 672  27 173 887   2 351  88]\n",
            "\n",
            "Prime Numbers in Array:\n",
            "[431 359  29 839  97 839 743 587 577  37 181 853 227  97 167 269 173 887\n",
            "   2]\n"
          ]
        }
      ]
    },
    {
      "cell_type": "markdown",
      "source": [
        "10.Create a NumPy array representing daily temperatures for a month. Calculate and display the weekly averages"
      ],
      "metadata": {
        "id": "reG_3YmG7Tjd"
      }
    },
    {
      "cell_type": "code",
      "source": [
        "#Generate daily temperatures for a month (30 days)\n",
        "np.random.seed(0)  # For reproducibility\n",
        "daily_temperatures = np.random.uniform(low=0, high=35, size=30)  # Temperatures between 0 and 35 degrees\n",
        "print(\"Daily Temperatures for the Month:\")\n",
        "print(daily_temperatures)\n",
        "\n",
        "#Reshape the array to represent weeks (assuming 30 days = 4 weeks + 2 extra days)\n",
        "#Reshape to 5 weeks of 6 days\n",
        "reshaped_temperatures = daily_temperatures.reshape(5, 6) #Change the dimensions of the reshaped array to 5x6\n",
        "print(\"\\nReshaped Temperatures (5 weeks x 6 days):\")\n",
        "print(reshaped_temperatures)\n",
        "\n",
        "#Calculate weekly averages\n",
        "weekly_averages = np.mean(reshaped_temperatures, axis=1)\n",
        "print(\"\\nWeekly Averages:\")\n",
        "print(weekly_averages)\n"
      ],
      "metadata": {
        "colab": {
          "base_uri": "https://localhost:8080/"
        },
        "id": "q2m4UlcB7PqF",
        "outputId": "b337ad26-e33a-4c88-f141-34ec1f89a5cc"
      },
      "execution_count": null,
      "outputs": [
        {
          "output_type": "stream",
          "name": "stdout",
          "text": [
            "Daily Temperatures for the Month:\n",
            "[19.20847264 25.03162782 21.09671816 19.0709114  14.82791798 22.60629396\n",
            " 15.31555239 31.21205503 33.72819662 13.42045316 27.71037633 18.51132219\n",
            " 19.88155964 32.39588234  2.48626204  3.04952549  0.70764391 29.14169459\n",
            " 27.23548628 30.45042519 34.25164198 27.97054975 16.15177768 27.31852117\n",
            "  4.13960491 22.39723575  5.01736506 33.0634121  18.26469126 14.5131679 ]\n",
            "\n",
            "Reshaped Temperatures (5 weeks x 6 days):\n",
            "[[19.20847264 25.03162782 21.09671816 19.0709114  14.82791798 22.60629396]\n",
            " [15.31555239 31.21205503 33.72819662 13.42045316 27.71037633 18.51132219]\n",
            " [19.88155964 32.39588234  2.48626204  3.04952549  0.70764391 29.14169459]\n",
            " [27.23548628 30.45042519 34.25164198 27.97054975 16.15177768 27.31852117]\n",
            " [ 4.13960491 22.39723575  5.01736506 33.0634121  18.26469126 14.5131679 ]]\n",
            "\n",
            "Weekly Averages:\n",
            "[20.30699033 23.31632595 14.610428   27.22973367 16.23257949]\n"
          ]
        }
      ]
    },
    {
      "cell_type": "code",
      "source": [],
      "metadata": {
        "id": "ng7EDdcj7Xe9"
      },
      "execution_count": null,
      "outputs": []
    }
  ]
}