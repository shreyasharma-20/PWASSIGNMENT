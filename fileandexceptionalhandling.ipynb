{
 "cells": [
  {
   "cell_type": "markdown",
   "id": "6810308f-a149-4005-b62d-c337235cbcba",
   "metadata": {},
   "source": [
    "1. Discuss the scenarios where multithreading is preferable to multiprocessing and scenarios where\n",
    "multiprocessing is a better choice."
   ]
  },
  {
   "cell_type": "raw",
   "id": "851d844e-dfd2-41f0-b1f0-cb9243cc75ef",
   "metadata": {},
   "source": [
    " 1st:-Multhithreading:-\n",
    "\n",
    "               I/O-Bound Tasks: Preferable for tasks that spend a lot of time waiting for external resources (e.g., file I/O, network requests).\n",
    "               Shared Memory: If threads need to share a lot of data, multithreading is more efficient because threads share the same memory space.\n",
    "                Lightweight: Threads are generally lighter and faster to create than processes, making them suitable for tasks requiring frequent context switching.\n",
    " 2nd:-Multiprocessing:-\n",
    "                CPU-Bound Tasks: Better for tasks that are computation-heavy and can run in parallel on multiple CPU cores.\n",
    "               Process Isolation: When tasks require isolation (e.g., to avoid side effects from shared memory), multiprocessing is safer because each process has its own memory space.\n",
    "               GIL Limitation: In Python, multiprocessing is preferred for CPU-bound tasks because it bypasses the Global Interpreter Lock (GIL) that can hinder the performance of multithreaded programs.\n",
    "            "
   ]
  },
  {
   "cell_type": "markdown",
   "id": "60a4c246-526a-4fad-91df-149b6f517af6",
   "metadata": {},
   "source": [
    "2. Describe what a process pool is and how it helps in managing multiple processes efficiently."
   ]
  },
  {
   "cell_type": "raw",
   "id": "ec02df29-5424-41d3-89dc-066acf07cb68",
   "metadata": {},
   "source": [
    "A process pool is a collection of pre-instantiated worker processes that are ready to execute tasks. It helps in managing multiple processes efficiently by:\n",
    "\n",
    "         1.Reusing Processes: Instead of creating a new process for each task, a process pool reuses existing processes, reducing the overhead of process creation and termination.\n",
    "    \n",
    "         2.Load Balancing: It automatically distributes tasks among the available processes, ensuring efficient utilization of CPU cores.\n",
    "        \n",
    "         3.Parallel Execution: Tasks can run in parallel across multiple processes, speeding up execution, especially for CPU-bound tasks.\n",
    "        \n",
    "         Simplified Management: The pool handles the lifecycle of processes, making it easier to manage concurrency without manually handling process creation and termination."
   ]
  },
  {
   "cell_type": "markdown",
   "id": "f32faf6a-fc14-4ed7-a90a-2339f2f7ce1b",
   "metadata": {},
   "source": [
    "3. Explain what multiprocessing is and why it is used in Python programs."
   ]
  },
  {
   "cell_type": "raw",
   "id": "3bb01137-2d16-45ee-8335-1f970dd5697a",
   "metadata": {},
   "source": [
    "Multiprocessing :- Multhiprocessing in Python is the technique of running multiple processes simultaneously, each with its own memory space. It is used to:\n",
    "\n",
    "          1st.Leverage Multiple Cores: Python programs can utilize multiple CPU cores, enabling true parallel execution of tasks.\n",
    "    \n",
    "          2nd.Bypass GIL: It avoids the limitations of the Global Interpreter Lock (GIL) in Python, which can restrict multithreading performance in CPU-bound tasks.\n",
    "        \n",
    "          3rd:Improve Performance: By distributing work across multiple processes, multiprocessing can significantly speed up computation-heavy tasks"
   ]
  },
  {
   "cell_type": "markdown",
   "id": "da6b7dcc-e985-4bf7-bc66-a49505b91e61",
   "metadata": {},
   "source": [
    "4. Write a Python program using multithreading where one thread adds numbers to a list, and another\n",
    "thread removes numbers from the list. Implement a mechanism to avoid race conditions using\n",
    "threading.Lock."
   ]
  },
  {
   "cell_type": "code",
   "execution_count": 2,
   "id": "c2844a91-48c4-4f13-8d59-5c446559ea50",
   "metadata": {},
   "outputs": [
    {
     "name": "stdout",
     "output_type": "stream",
     "text": [
      "Added: 0\n",
      "Removed: 0\n",
      "Added: 1\n",
      "Removed: 1\n",
      "Added: 2\n",
      "Added: 3\n",
      "Removed: 2\n",
      "Added: 4\n",
      "Removed: 3\n",
      "Added: 5\n",
      "Added: 6\n",
      "Removed: 4\n",
      "Added: 7\n",
      "Removed: 5\n",
      "Added: 8\n",
      "Added: 9\n",
      "Removed: 6\n",
      "Removed: 7\n",
      "Removed: 8\n",
      "Removed: 9\n",
      "Final list: []\n"
     ]
    }
   ],
   "source": [
    "import threading\n",
    "import time\n",
    "\n",
    "numbers_list = []\n",
    "list_lock = threading.Lock()\n",
    "\n",
    "def add_numbers():\n",
    "    for i in range(10):\n",
    "        with list_lock:\n",
    "            numbers_list.append(i)\n",
    "            print(f\"Added: {i}\")\n",
    "        time.sleep(0.1)  \n",
    "\n",
    "def remove_numbers():\n",
    "    for _ in range(10):\n",
    "        with list_lock:\n",
    "            if numbers_list:\n",
    "                removed = numbers_list.pop(0)\n",
    "                print(f\"Removed: {removed}\")\n",
    "        time.sleep(0.15)  \n",
    "\n",
    "adder_thread = threading.Thread(target=add_numbers)\n",
    "remover_thread = threading.Thread(target=remove_numbers)\n",
    "\n",
    "adder_thread.start()\n",
    "remover_thread.start()\n",
    "\n",
    "adder_thread.join()\n",
    "remover_thread.join()\n",
    "\n",
    "print(\"Final list:\", numbers_list)\n"
   ]
  },
  {
   "cell_type": "markdown",
   "id": "3bfaf052-ae46-41cb-9ff0-df68f1da6877",
   "metadata": {},
   "source": [
    "5. Describe the methods and tools available in Python for safely sharing data between threads and\n",
    "processes.\n"
   ]
  },
  {
   "cell_type": "raw",
   "id": "4b12ef4a-5282-40c9-96d2-69102ebc9298",
   "metadata": {},
   "source": [
    " For Threads:\n",
    "\n",
    "      1.threading.Lock: Ensures that only one thread can access a shared resource at a time, preventing race conditions.\n",
    "      2.threading.RLock: A reentrant lock that allows a thread to acquire the same lock multiple times.\n",
    "      3.threading.Semaphore: Controls access to a shared resource by a set number of threads.\n",
    "      4.threading.Event: Used for signaling between threads.\n",
    "      5.threading.Condition: Allows threads to wait for a certain condition to be met before proceeding.\n",
    " For Processes:\n",
    "\n",
    "      multiprocessing.Queue: A thread- and process-safe FIFO queue that allows safe data sharing between processes.\n",
    "      multiprocessing.Pipe: A two-way communication channel between processes.\n",
    "      multiprocessing.Manager: Provides a way to create shared data structures like lists, dictionaries, etc., that can be safely shared between processes.\n",
    "      multiprocessing.Value and Array: Allow sharing of simple data types and arrays between processes, with automatic synchronization."
   ]
  },
  {
   "cell_type": "markdown",
   "id": "8f5a2e5c-4241-4ac5-a7c7-dc61dab7c7f4",
   "metadata": {},
   "source": [
    "6. Discuss why it’s crucial to handle exceptions in concurrent programs and the techniques available for\n",
    "doing so."
   ]
  },
  {
   "cell_type": "raw",
   "id": "4d523401-3a65-4116-9319-02111240a2e8",
   "metadata": {},
   "source": [
    "Handling exceptions in concurrent programs is crucial because:\n",
    "\n",
    "       Robustness: Ensures the program can recover from errors without crashing or behaving unpredictably.\n",
    "    \n",
    "       Debugging: Helps in identifying and addressing issues specific to concurrent execution that might not be apparent in sequential programs.\n",
    "        \n",
    "       Resource Management: Prevents resource leaks (e.g., unclosed files, unreleased locks) that can occur if exceptions aren't properly managed.\n",
    "    \n",
    " Techniques for Handling Exceptions:\n",
    "       Try-Except Blocks: Wrap critical code in try-except blocks within threads or processes to catch and handle exceptions locally.\n",
    "    \n",
    "       Exception Propagation: Use mechanisms like queue or Pipe to propagate exceptions from threads or processes to the main thread or process for centralized handling.\n",
    "        \n",
    "       Logging: Implement logging within exception handlers to record errors for debugging and monitoring.\n",
    "    \n",
    "       Graceful Shutdown: Ensure proper cleanup of resources and graceful shutdown of threads or processes when an exception occurs."
   ]
  },
  {
   "cell_type": "markdown",
   "id": "7eb05fe4-6c19-46c5-b911-abb02d33ebbb",
   "metadata": {},
   "source": [
    "7. Create a program that uses a thread pool to calculate the factorial of numbers from 1 to 10 concurrently.\n",
    "Use concurrent.futures.ThreadPoolExecutor to manage the threads."
   ]
  },
  {
   "cell_type": "code",
   "execution_count": 3,
   "id": "253a8e78-d3f4-4b63-b01e-e922bb3f08e7",
   "metadata": {},
   "outputs": [
    {
     "name": "stdout",
     "output_type": "stream",
     "text": [
      "Factorial of 1 is 1\n",
      "Factorial of 2 is 2\n",
      "Factorial of 3 is 6\n",
      "Factorial of 4 is 24\n",
      "Factorial of 5 is 120\n",
      "Factorial of 6 is 720\n",
      "Factorial of 7 is 5040\n",
      "Factorial of 8 is 40320\n",
      "Factorial of 9 is 362880\n",
      "Factorial of 10 is 3628800\n"
     ]
    }
   ],
   "source": [
    "import concurrent.futures\n",
    "import math\n",
    "\n",
    "def factorial(n):\n",
    "    return math.factorial(n)\n",
    "\n",
    "numbers = list(range(1, 11))\n",
    "\n",
    "def main():\n",
    "    with concurrent.futures.ThreadPoolExecutor() as executor:\n",
    "       \n",
    "        results = list(executor.map(factorial, numbers))\n",
    "    \n",
    "    for num, result in zip(numbers, results):\n",
    "        print(f\"Factorial of {num} is {result}\")\n",
    "\n",
    "if __name__ == \"__main__\":\n",
    "    main()\n"
   ]
  },
  {
   "cell_type": "markdown",
   "id": "40ed2d4a-97e2-4eed-b25b-cb31e175fa43",
   "metadata": {},
   "source": [
    "8. Create a Python program that uses multiprocessing.Pool to compute the square of numbers from 1 to 10 in\n",
    "parallel. Measure the time taken to perform this computation using a pool of different sizes (e.g., 2, 4, 8\n",
    "processes)."
   ]
  },
  {
   "cell_type": "code",
   "execution_count": 5,
   "id": "80bddf84-94fb-4d9c-8018-7306d51fe46d",
   "metadata": {},
   "outputs": [
    {
     "name": "stdout",
     "output_type": "stream",
     "text": [
      "Using pool size: 2\n",
      "Results: [1, 4, 9, 16, 25, 36, 49, 64, 81, 100]\n",
      "Time taken: 0.0015 seconds\n",
      "\n",
      "Using pool size: 4\n",
      "Results: [1, 4, 9, 16, 25, 36, 49, 64, 81, 100]\n",
      "Time taken: 0.0017 seconds\n",
      "\n",
      "Using pool size: 8\n",
      "Results: [1, 4, 9, 16, 25, 36, 49, 64, 81, 100]\n",
      "Time taken: 0.0021 seconds\n",
      "\n"
     ]
    }
   ],
   "source": [
    "import multiprocessing\n",
    "import time\n",
    "\n",
    "def square(n):\n",
    "    return n * n\n",
    "\n",
    "numbers = list(range(1, 11))\n",
    "\n",
    "def measure_time(pool_size):\n",
    "    with multiprocessing.Pool(pool_size) as pool:\n",
    "        start_time = time.time()\n",
    "        \n",
    "        results = pool.map(square, numbers)\n",
    "        \n",
    "        end_time = time.time()\n",
    "    \n",
    "    return results, end_time - start_time\n",
    "\n",
    "def main():\n",
    "    pool_sizes = [2, 4, 8] \n",
    "    \n",
    "    for pool_size in pool_sizes:\n",
    "        print(f\"Using pool size: {pool_size}\")\n",
    "        results, duration = measure_time(pool_size)\n",
    "        print(f\"Results: {results}\")\n",
    "        print(f\"Time taken: {duration:.4f} seconds\\n\")\n",
    "\n",
    "if __name__ == \"__main__\":\n",
    "    main()\n"
   ]
  },
  {
   "cell_type": "code",
   "execution_count": null,
   "id": "e168ef9a-0519-484c-b918-829a3ade5b95",
   "metadata": {},
   "outputs": [],
   "source": []
  }
 ],
 "metadata": {
  "kernelspec": {
   "display_name": "Python 3 (ipykernel)",
   "language": "python",
   "name": "python3"
  },
  "language_info": {
   "codemirror_mode": {
    "name": "ipython",
    "version": 3
   },
   "file_extension": ".py",
   "mimetype": "text/x-python",
   "name": "python",
   "nbconvert_exporter": "python",
   "pygments_lexer": "ipython3",
   "version": "3.10.8"
  }
 },
 "nbformat": 4,
 "nbformat_minor": 5
}
