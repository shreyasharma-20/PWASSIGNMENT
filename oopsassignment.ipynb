{
  "nbformat": 4,
  "nbformat_minor": 0,
  "metadata": {
    "colab": {
      "provenance": []
    },
    "kernelspec": {
      "name": "python3",
      "display_name": "Python 3"
    },
    "language_info": {
      "name": "python"
    }
  },
  "cells": [
    {
      "cell_type": "markdown",
      "source": [],
      "metadata": {
        "id": "BK_xHWlEgGqE"
      }
    },
    {
      "cell_type": "markdown",
      "source": [
        "1. What are the five key concepts of Object-Oriented Programming (OOP)?\n",
        "\n",
        "ANS- classes/objects, encapsulation/data hiding, inheritance, polymorphism, and interfaces/methods."
      ],
      "metadata": {
        "id": "fI3TcQehgJh9"
      }
    },
    {
      "cell_type": "markdown",
      "source": [
        "2. Write a Python class for a `Car` with attributes for `make`, `model`, and `year`. Include a method to display\n",
        "the car's information.\n",
        "\n",
        "\n"
      ],
      "metadata": {
        "id": "nRS7k9hdgZXx"
      }
    },
    {
      "cell_type": "code",
      "source": [
        "class car(object):\n",
        "    def __init__(self, make, model, year):\n",
        "        self.make = make\n",
        "        self.model = model\n",
        "    def __str__(self):\n",
        "\n",
        "        return '%s %s %s' % (self.year, self.make, self.model)\n"
      ],
      "metadata": {
        "id": "UboqwrqNgaaJ"
      },
      "execution_count": null,
      "outputs": []
    },
    {
      "cell_type": "code",
      "source": [
        "c1= car('Tesla', 'Model 3', '2018')\n"
      ],
      "metadata": {
        "id": "SKt7apQzgf0j"
      },
      "execution_count": null,
      "outputs": []
    },
    {
      "cell_type": "code",
      "source": [
        "c1"
      ],
      "metadata": {
        "colab": {
          "base_uri": "https://localhost:8080/"
        },
        "id": "4u4fCj9ugvNg",
        "outputId": "637f1e63-d9f4-4ed7-cc63-baba471b3a35"
      },
      "execution_count": null,
      "outputs": [
        {
          "output_type": "execute_result",
          "data": {
            "text/plain": [
              "<__main__.car at 0x7bbebd3e20b0>"
            ]
          },
          "metadata": {},
          "execution_count": 3
        }
      ]
    },
    {
      "cell_type": "markdown",
      "source": [
        "3) Explain the difference between instance methods and class methods. Provide an example of each?\n",
        "\n",
        "ANS- Instance methods These methods are created from a specific object and can access the instance through self. They can read and modify the state of an object. Instance methods are the default choice for most methods within a class. Class methods These methods do not require a class instance and can access the class itself through cls. They can't access the instance (self). Class methods are useful for operations that involve the class as a whole, such as accessing or modifying class-level attributes or creating alternative constructors."
      ],
      "metadata": {
        "id": "BJDpCiLSiDBW"
      }
    },
    {
      "cell_type": "code",
      "source": [
        "#instance method\n",
        "class Dog:\n",
        "    def __init__(self, name, age):\n",
        "        self.name = name\n",
        "        self.age = age\n",
        "\n",
        "    def bark(self):\n",
        "        return f\"{self.name} says woof!\"\n",
        "\n",
        "    def get_age(self):\n",
        "        return self.age\n",
        "\n",
        "# Example usage\n",
        "dog1 = Dog(\"Tom\", 5)\n",
        "print(dog1.bark())\n",
        "print(dog1.get_age())\n"
      ],
      "metadata": {
        "colab": {
          "base_uri": "https://localhost:8080/"
        },
        "id": "DciwzbN3sNst",
        "outputId": "cd85089b-2874-4f3f-bb03-1f9282f7848c"
      },
      "execution_count": null,
      "outputs": [
        {
          "output_type": "stream",
          "name": "stdout",
          "text": [
            "Tom says woof!\n",
            "5\n"
          ]
        }
      ]
    },
    {
      "cell_type": "code",
      "source": [
        "#class method\n",
        "class Dog:\n",
        "    _total_dogs = 0\n",
        "\n",
        "    def __init__(self, name, age):\n",
        "        self.name = name\n",
        "        self.age = age\n",
        "        Dog._total_dogs += 1\n",
        "\n",
        "    @classmethod\n",
        "    def get_total_dogs(cls):\n",
        "        return cls._total_dogs\n",
        "\n",
        "    @classmethod\n",
        "    def create_puppy(cls, name):\n",
        "        return cls(name, age=0) #This line was missing self\n",
        "\n",
        "    def bark(self): # Added bark method to the class\n",
        "        return f\"{self.name} says woof!\"\n",
        "\n",
        "# Example usage\n",
        "puppy = Dog.create_puppy(\"Buddy\")\n",
        "print(puppy.bark())\n",
        "print(Dog.get_total_dogs())"
      ],
      "metadata": {
        "colab": {
          "base_uri": "https://localhost:8080/"
        },
        "id": "RoiC3jpW6FQA",
        "outputId": "7673d856-457f-4ec0-de9d-fd8b594c2cd3"
      },
      "execution_count": 2,
      "outputs": [
        {
          "output_type": "stream",
          "name": "stdout",
          "text": [
            "Buddy says woof!\n",
            "1\n"
          ]
        }
      ]
    },
    {
      "cell_type": "markdown",
      "source": [
        "4) How does Python implement method overloading? Give an example.?\n",
        "\n",
        "ANS- If you define multiple methods with the same name in a class, the last one defined will override any previous methods with the same name. In this example, the add method accepts a variable number of arguments using *args."
      ],
      "metadata": {
        "id": "txvbgPToiOO2"
      }
    },
    {
      "cell_type": "code",
      "source": [
        "class Example:\n",
        "    def display(self, a=None, b=None):\n",
        "        if a is not None and b is not None:\n",
        "            print(f\"Two arguments: {a}, {b}\")\n",
        "        elif a is not None:\n",
        "            print(f\"One argument: {a}\")\n",
        "        else:\n",
        "            print(\"No arguments\")\n",
        "\n",
        "# Usage\n",
        "obj = Example()\n",
        "obj.display()\n",
        "obj.display(10)\n",
        "obj.display(10, 20)\n"
      ],
      "metadata": {
        "colab": {
          "base_uri": "https://localhost:8080/"
        },
        "id": "0PjPZZ546tco",
        "outputId": "81ec77c8-bd7d-46be-e421-c95304f139a5"
      },
      "execution_count": 3,
      "outputs": [
        {
          "output_type": "stream",
          "name": "stdout",
          "text": [
            "No arguments\n",
            "One argument: 10\n",
            "Two arguments: 10, 20\n"
          ]
        }
      ]
    },
    {
      "cell_type": "markdown",
      "source": [
        "5) What are the three types of access modifiers in Python? How are they denoted?\n",
        "\n",
        "ANS- Python supports three types of access modifiers which are public(Denoted by: No underscore prefix) ,private(Denoted by: A double underscore __ prefix (e.g., __var)) and protected(Denoted by: A single underscore _ prefix (e.g., _var)). These access modifiers provide restrictions on the access of member variables and methods of the class from any object outside the class"
      ],
      "metadata": {
        "id": "x4sgotKoiSSn"
      }
    },
    {
      "cell_type": "markdown",
      "source": [
        "6) Describe the five types of inheritance in Python. Provide a simple example of multiple inheritance?\n",
        "\n",
        "\n",
        "ANS-Types of Python Inheritance Single inheritance: In this type, a derived class inherits from only one base class. Multiple inheritance: In this inheritance, the derived class inherits from multiple base classes. Multi-level inheritance: In this, a derived class inherits another derived class."
      ],
      "metadata": {
        "id": "3vzw43HRipJt"
      }
    },
    {
      "cell_type": "code",
      "source": [
        "#1. Single Inheritance\n",
        "#Single inheritance involves a single base class and a single derived class. The derived class inherits from one parent class.\n",
        "\n",
        "class Parent:\n",
        "    def display(self):\n",
        "        print(\"This is the Parent class\")\n",
        "\n",
        "class Child(Parent):\n",
        "    def show(self):\n",
        "        print(\"This is the Child class\")\n",
        "\n",
        "# Usage\n",
        "child = Child()\n",
        "child.display()\n",
        "child.show()\n",
        "\n"
      ],
      "metadata": {
        "colab": {
          "base_uri": "https://localhost:8080/"
        },
        "id": "66h0MILH7ToE",
        "outputId": "63f30cb8-07cd-46cb-fadd-8a585a82ede2"
      },
      "execution_count": 4,
      "outputs": [
        {
          "output_type": "stream",
          "name": "stdout",
          "text": [
            "This is the Parent class\n",
            "This is the Child class\n"
          ]
        }
      ]
    },
    {
      "cell_type": "code",
      "source": [
        "#2. Multiple Inheritance\n",
        "#Multiple inheritance occurs when a child class inherits from more than one parent class\n",
        "\n",
        "class Parent1:\n",
        "    def func1(self):\n",
        "        print(\"This is Parent1 class\")\n",
        "\n",
        "class Parent2:\n",
        "    def func2(self):\n",
        "        print(\"This is Parent2 class\")\n",
        "\n",
        "class Child(Parent1, Parent2):\n",
        "    def func3(self):\n",
        "        print(\"This is the Child class\")\n",
        "\n",
        "# Usage\n",
        "child = Child()\n",
        "child.func1()\n",
        "child.func2()\n",
        "child.func3()\n"
      ],
      "metadata": {
        "colab": {
          "base_uri": "https://localhost:8080/"
        },
        "id": "xUnqs2Gy7k0F",
        "outputId": "7da7c47a-89d8-4ec3-9d1b-562168734caf"
      },
      "execution_count": 5,
      "outputs": [
        {
          "output_type": "stream",
          "name": "stdout",
          "text": [
            "This is Parent1 class\n",
            "This is Parent2 class\n",
            "This is the Child class\n"
          ]
        }
      ]
    },
    {
      "cell_type": "code",
      "source": [
        "#3. Multilevel Inheritance\n",
        "#Multilevel inheritance occurs when a derived class inherits from a base class, and another class further inherits from that derived class, forming a chain of inheritance.\n",
        "\n",
        "class Grandparent:\n",
        "    def func1(self):\n",
        "        print(\"This is the Grandparent class\")\n",
        "\n",
        "class Parent(Grandparent):\n",
        "    def func2(self):\n",
        "        print(\"This is the Parent class\")\n",
        "\n",
        "class Child(Parent):\n",
        "    def func3(self):\n",
        "        print(\"This is the Child class\")\n",
        "\n",
        "# Usage\n",
        "child = Child()\n",
        "child.func1()\n",
        "child.func2()\n",
        "child.func3()\n"
      ],
      "metadata": {
        "colab": {
          "base_uri": "https://localhost:8080/"
        },
        "id": "pN5Fz49a7uI1",
        "outputId": "86fa233d-08ee-41bb-b358-702186b83547"
      },
      "execution_count": 6,
      "outputs": [
        {
          "output_type": "stream",
          "name": "stdout",
          "text": [
            "This is the Grandparent class\n",
            "This is the Parent class\n",
            "This is the Child class\n"
          ]
        }
      ]
    },
    {
      "cell_type": "code",
      "source": [
        "#4. Hierarchical Inheritance\n",
        "#Hierarchical inheritance happens when multiple child classes inherit from the same base class.\n",
        "\n",
        "class Parent:\n",
        "    def func(self):\n",
        "        print(\"This is the Parent class\")\n",
        "\n",
        "class Child1(Parent):\n",
        "    def func1(self):\n",
        "        print(\"This is Child1 class\")\n",
        "\n",
        "class Child2(Parent):\n",
        "    def func2(self):\n",
        "        print(\"This is Child2 class\")\n",
        "\n",
        "# Usage\n",
        "child1 = Child1()\n",
        "child1.func()\n",
        "child1.func1()\n",
        "\n",
        "child2 = Child2()\n",
        "child2.func()\n",
        "child2.func2()\n"
      ],
      "metadata": {
        "colab": {
          "base_uri": "https://localhost:8080/"
        },
        "id": "1e_D_RWu8EnP",
        "outputId": "a88b2436-ca63-43f3-9498-c0f9a82ff6bf"
      },
      "execution_count": 7,
      "outputs": [
        {
          "output_type": "stream",
          "name": "stdout",
          "text": [
            "This is the Parent class\n",
            "This is Child1 class\n",
            "This is the Parent class\n",
            "This is Child2 class\n"
          ]
        }
      ]
    },
    {
      "cell_type": "code",
      "source": [
        "#5. Hybrid Inheritance\n",
        "#Hybrid inheritance is a combination of two or more types of inheritance, typically a mix of hierarchical and multiple inheritance.\n",
        "\n",
        "class Parent:\n",
        "    def func1(self):\n",
        "        print(\"This is the Parent class\")\n",
        "\n",
        "class Child1(Parent):\n",
        "    def func2(self):\n",
        "        print(\"This is Child1 class\")\n",
        "\n",
        "class Child2(Parent):\n",
        "    def func3(self):\n",
        "        print(\"This is Child2 class\")\n",
        "\n",
        "class Child3(Child1, Child2):\n",
        "    def func4(self):\n",
        "        print(\"This is Child3 class\")\n",
        "\n",
        "# Usage\n",
        "child3 = Child3()\n",
        "child3.func1()\n",
        "child3.func2()\n",
        "child3.func3()\n",
        "child3.func4()\n"
      ],
      "metadata": {
        "colab": {
          "base_uri": "https://localhost:8080/"
        },
        "id": "s5NEdXLA8Xmm",
        "outputId": "41f8d2d2-cb05-4c64-da73-60cb3778462f"
      },
      "execution_count": 9,
      "outputs": [
        {
          "output_type": "stream",
          "name": "stdout",
          "text": [
            "This is the Parent class\n",
            "This is Child1 class\n",
            "This is Child2 class\n",
            "This is Child3 class\n"
          ]
        }
      ]
    },
    {
      "cell_type": "markdown",
      "source": [
        "7) What is the Method Resolution Order (MRO) in Python? How can you retrieve it programmatically??\n",
        "\n",
        "\n",
        "\n",
        "ANS- MRO determines the order in which base classes are searched when executing a method. It is determined using the C3 linearization algorithm, also known as C3 superclass linearization. You can view the MRO of a class using the mro attribute or the mro() method\n",
        "\n",
        "How to Retrieve MRO Programmatically\n",
        "Using the __mro__ attribute:\n",
        "\n",
        "This attribute contains a tuple of classes in the MRO order.\n",
        "\n",
        "print(D.__mro__)\n"
      ],
      "metadata": {
        "id": "D3Hnpxyjizsf"
      }
    },
    {
      "cell_type": "markdown",
      "source": [
        "8. Create an abstract base class `Shape` with an abstract method `area()`. Then create two subclasses\n",
        "`Circle` and `Rectangle` that implement the `area()` method."
      ],
      "metadata": {
        "id": "ft09U7KcmpCb"
      }
    },
    {
      "cell_type": "code",
      "source": [
        "from abc import ABC, abstractmethod\n",
        "import math\n",
        "\n",
        "class Shape(ABC):\n",
        "    @abstractmethod\n",
        "    def area(self):\n",
        "        \"\"\"Method to calculate the area of a shape\"\"\"\n",
        "        pass\n",
        "\n",
        "class Circle(Shape):\n",
        "    def __init__(self, radius):\n",
        "        if radius <= 0:\n",
        "            raise ValueError(\"Radius must be a positive number\")\n",
        "        self.radius = radius\n",
        "\n",
        "    def area(self):\n",
        "        return math.pi * self.radius ** 2\n",
        "\n",
        "class Rectangle(Shape):\n",
        "    def __init__(self, width, height):\n",
        "        if width <= 0 or height <= 0:\n",
        "            raise ValueError(\"Width and height must be positive numbers\")\n",
        "        self.width = width\n",
        "        self.height = height\n",
        "\n",
        "    def area(self):\n",
        "        return self.width * self.height\n",
        "\n",
        "# Example usage:\n",
        "try:\n",
        "    circle = Circle(5)\n",
        "    print(\"Circle area:\", circle.area())\n",
        "\n",
        "    rectangle = Rectangle(4, 6)\n",
        "    print(\"Rectangle area:\", rectangle.area())\n",
        "\n",
        "except ValueError as e:\n",
        "    print(e)\n"
      ],
      "metadata": {
        "colab": {
          "base_uri": "https://localhost:8080/"
        },
        "id": "-7FzEqz_myy7",
        "outputId": "be511652-07ee-4d44-9a54-8af76bf95abe"
      },
      "execution_count": null,
      "outputs": [
        {
          "output_type": "stream",
          "name": "stdout",
          "text": [
            "Circle area: 78.53981633974483\n",
            "Rectangle area: 24\n"
          ]
        }
      ]
    },
    {
      "cell_type": "markdown",
      "source": [
        "9. Demonstrate polymorphism by creating a function that can work with different shape objects to calculate\n",
        "and print their areas.\n",
        "\n",
        "Polymorphism allows us to use a single function to operate on different types of objects, provided they share the same interface (in this case, they implement the area() method). Since both the Circle and Rectangle classes share a common method area() (inherited from the abstract Shape class), we can create a function that works with any shape object to calculate and print the area."
      ],
      "metadata": {
        "id": "frCiOUJfnHYn"
      }
    },
    {
      "cell_type": "code",
      "source": [
        "from abc import ABC, abstractmethod\n",
        "import math\n",
        "\n",
        "# Abstract base class\n",
        "class Shape(ABC):\n",
        "    @abstractmethod\n",
        "    def area(self):\n",
        "        pass\n",
        "\n",
        "# Circle class\n",
        "class Circle(Shape):\n",
        "    def __init__(self, radius):\n",
        "        if radius <= 0:\n",
        "            raise ValueError(\"Radius must be a positive number\")\n",
        "        self.radius = radius\n",
        "\n",
        "    def area(self):\n",
        "        return math.pi * self.radius ** 2\n",
        "\n",
        "# Rectangle class\n",
        "class Rectangle(Shape):\n",
        "    def __init__(self, width, height):\n",
        "        if width <= 0 or height <= 0:\n",
        "            raise ValueError(\"Width and height must be positive numbers\")\n",
        "        self.width = width\n",
        "        self.height = height\n",
        "\n",
        "    def area(self):\n",
        "        return self.width * self.height\n",
        "\n",
        "# Function demonstrating polymorphism\n",
        "def print_area(shape: Shape):\n",
        "    \"\"\"This function accepts any object of type Shape and prints its area\"\"\"\n",
        "    print(f\"The area of the shape is: {shape.area()}\")\n",
        "\n",
        "# Example usage:\n",
        "try:\n",
        "    circle = Circle(5)\n",
        "    rectangle = Rectangle(4, 6)\n",
        "\n",
        "    print_area(circle)\n",
        "    print_area(rectangle)\n",
        "\n",
        "except ValueError as e:\n",
        "    print(e)\n"
      ],
      "metadata": {
        "colab": {
          "base_uri": "https://localhost:8080/"
        },
        "id": "69KiHlO6nED-",
        "outputId": "cd27f367-21c2-4fc5-cbd5-8ae9ea8616b5"
      },
      "execution_count": null,
      "outputs": [
        {
          "output_type": "stream",
          "name": "stdout",
          "text": [
            "The area of the shape is: 78.53981633974483\n",
            "The area of the shape is: 24\n"
          ]
        }
      ]
    },
    {
      "cell_type": "markdown",
      "source": [
        "10. Implement encapsulation in a `BankAccount` class with private attributes for `balance` and\n",
        "`account_number`. Include methods for deposit, withdrawal, and balance inquiry"
      ],
      "metadata": {
        "id": "Ndm-aXD-nd15"
      }
    },
    {
      "cell_type": "code",
      "source": [
        "class BankAccount:\n",
        "    def __init__(self, account_number, initial_balance=0):\n",
        "        self.__account_number = account_number  # Private attribute\n",
        "        self.__balance = initial_balance        # Private attribute\n",
        "\n",
        "    # Public method for depositing money\n",
        "    def deposit(self, amount):\n",
        "        if amount > 0:\n",
        "            self.__balance += amount\n",
        "            print(f\"Deposited ${amount}. New balance: ${self.__balance}\")\n",
        "        else:\n",
        "            print(\"Deposit amount must be positive.\")\n",
        "\n",
        "    # Public method for withdrawing money\n",
        "    def withdraw(self, amount):\n",
        "        if amount > self.__balance:\n",
        "            print(\"Insufficient balance.\")\n",
        "        elif amount <= 0:\n",
        "            print(\"Withdrawal amount must be positive.\")\n",
        "        else:\n",
        "            self.__balance -= amount\n",
        "            print(f\"Withdrew ${amount}. New balance: ${self.__balance}\")\n",
        "\n",
        "    # Public method for checking balance\n",
        "    def get_balance(self):\n",
        "        return f\"Your current balance is: ${self.__balance}\"\n",
        "\n",
        "    # Public method to get account number\n",
        "    def get_account_number(self):\n",
        "        return f\"Account Number: {self.__account_number}\"\n",
        "\n",
        "# Example usage\n",
        "account = BankAccount(\"1234567890\", 500)\n",
        "\n",
        "print(account.get_account_number())\n",
        "print(account.get_balance())\n",
        "\n",
        "account.deposit(200)\n",
        "account.withdraw(100)\n",
        "print(account.get_balance())\n"
      ],
      "metadata": {
        "colab": {
          "base_uri": "https://localhost:8080/"
        },
        "id": "1F2qykzpoLon",
        "outputId": "a4c57283-ba29-4898-8fe2-ba8b5012bccc"
      },
      "execution_count": null,
      "outputs": [
        {
          "output_type": "stream",
          "name": "stdout",
          "text": [
            "Account Number: 1234567890\n",
            "Your current balance is: $500\n",
            "Deposited $200. New balance: $700\n",
            "Withdrew $100. New balance: $600\n",
            "Your current balance is: $600\n"
          ]
        }
      ]
    },
    {
      "cell_type": "markdown",
      "source": [
        "11. Write a class that overrides the `__str__` and `__add__` magic methods. What will these methods allow\n",
        "you to do?"
      ],
      "metadata": {
        "id": "K2ENSsF-pHqk"
      }
    },
    {
      "cell_type": "code",
      "source": [
        "class Point:\n",
        "    def __init__(self, x, y):\n",
        "        self.x = x\n",
        "        self.y = y\n",
        "\n",
        "    # Overriding __str__ to return a user-friendly string representation\n",
        "    def __str__(self):\n",
        "        return f\"Point({self.x}, {self.y})\"\n",
        "\n",
        "    # Overriding __add__ to define addition behavior for Point objects\n",
        "    def __add__(self, other):\n",
        "        if isinstance(other, Point):\n",
        "            return Point(self.x + other.x, self.y + other.y)\n",
        "        return NotImplemented\n",
        "\n",
        "# Example usage:\n",
        "point1 = Point(3, 4)\n",
        "point2 = Point(1, 2)\n",
        "\n",
        "# Using __str__\n",
        "print(point1)  # Output: Point(3, 4)\n",
        "print(point2)  # Output: Point(1, 2)\n",
        "\n",
        "# Using __add__\n",
        "result_point = point1 + point2\n",
        "print(result_point)  # Output: Point(4, 6)\n"
      ],
      "metadata": {
        "colab": {
          "base_uri": "https://localhost:8080/"
        },
        "id": "HpRVi_gDocjL",
        "outputId": "362754f2-dc19-45c9-bba6-a4eb1bfd5a84"
      },
      "execution_count": null,
      "outputs": [
        {
          "output_type": "stream",
          "name": "stdout",
          "text": [
            "Point(3, 4)\n",
            "Point(1, 2)\n",
            "Point(4, 6)\n"
          ]
        }
      ]
    },
    {
      "cell_type": "markdown",
      "source": [
        "12. Create a decorator that measures and prints the execution time of a function."
      ],
      "metadata": {
        "id": "tRh-R1UqpUaG"
      }
    },
    {
      "cell_type": "code",
      "source": [
        "import time\n",
        "\n",
        "# Decorator to measure execution time\n",
        "def measure_time(func):\n",
        "    def wrapper(*args, **kwargs):\n",
        "        start_time = time.time()  # Record start time\n",
        "        result = func(*args, **kwargs)  # Call the original function\n",
        "        end_time = time.time()  # Record end time\n",
        "        execution_time = end_time - start_time  # Calculate execution time\n",
        "        print(f\"Execution time of {func.__name__}: {execution_time:.4f} seconds\")\n",
        "        return result\n",
        "    return wrapper\n",
        "\n",
        "# Example function to demonstrate the decorator\n",
        "@measure_time\n",
        "def some_function(n):\n",
        "    \"\"\"Simulates a function that takes some time to execute.\"\"\"\n",
        "    total = 0\n",
        "    for i in range(n):\n",
        "        total += i\n",
        "    return total\n",
        "\n",
        "# Example usage\n",
        "result = some_function(1000000)\n",
        "print(f\"Result: {result}\")\n"
      ],
      "metadata": {
        "colab": {
          "base_uri": "https://localhost:8080/"
        },
        "id": "0VLjd-3-pLPh",
        "outputId": "f84fb370-b69d-4871-f045-3999dea36a8d"
      },
      "execution_count": null,
      "outputs": [
        {
          "output_type": "stream",
          "name": "stdout",
          "text": [
            "Execution time of some_function: 0.2424 seconds\n",
            "Result: 499999500000\n"
          ]
        }
      ]
    },
    {
      "cell_type": "markdown",
      "source": [
        "13. Explain the concept of the Diamond Problem in multiple inheritance. How does Python resolve it?\n",
        "\n",
        "\n",
        "\n",
        "The Diamond Problem is a classic issue in object-oriented programming that arises when using multiple inheritance. It occurs when a class inherits from two classes that both inherit from a common base class. This situation can create ambiguity regarding which path to follow when accessing methods or attributes that are defined in the common base class."
      ],
      "metadata": {
        "id": "Q9Of5VOppn7o"
      }
    },
    {
      "cell_type": "code",
      "source": [
        "class A:\n",
        "    def method(self):\n",
        "        print(\"Method in A\")\n",
        "\n",
        "class B(A):\n",
        "    def method(self):\n",
        "        print(\"Method in B\")\n",
        "\n",
        "class C(A):\n",
        "    def method(self):\n",
        "        print(\"Method in C\")\n",
        "\n",
        "class D(B, C):\n",
        "    pass\n",
        "\n",
        "# Create an instance of D\n",
        "d = D()\n",
        "d.method()  # Output: \"Method in B\"\n",
        "\n",
        "# Print the method resolution order\n",
        "print(D.mro())\n"
      ],
      "metadata": {
        "colab": {
          "base_uri": "https://localhost:8080/"
        },
        "id": "_tk3rjEjpc1y",
        "outputId": "ba51c01a-370e-41d9-a87f-63254763bbe3"
      },
      "execution_count": null,
      "outputs": [
        {
          "output_type": "stream",
          "name": "stdout",
          "text": [
            "Method in B\n",
            "[<class '__main__.D'>, <class '__main__.B'>, <class '__main__.C'>, <class '__main__.A'>, <class 'object'>]\n"
          ]
        }
      ]
    },
    {
      "cell_type": "markdown",
      "source": [
        "14. Write a class method that keeps track of the number of instances created from a class."
      ],
      "metadata": {
        "id": "S6dqTAuoqzBV"
      }
    },
    {
      "cell_type": "code",
      "source": [
        "class InstanceCounter:\n",
        "    # Class variable to keep track of the number of instances\n",
        "    _instance_count = 0\n",
        "\n",
        "    def __init__(self):\n",
        "        # Increment the instance count when a new instance is created\n",
        "        InstanceCounter._instance_count += 1\n",
        "\n",
        "    @classmethod\n",
        "    def get_instance_count(cls):\n",
        "        \"\"\"Class method to get the number of instances created\"\"\"\n",
        "        return cls._instance_count\n",
        "\n",
        "# Example usage:\n",
        "obj1 = InstanceCounter()\n",
        "obj2 = InstanceCounter()\n",
        "obj3 = InstanceCounter()\n",
        "\n",
        "# Get the number of instances created\n",
        "print(\"Number of instances created:\", InstanceCounter.get_instance_count())\n"
      ],
      "metadata": {
        "colab": {
          "base_uri": "https://localhost:8080/"
        },
        "id": "AZuhASpcqz_u",
        "outputId": "bbf5168e-6459-40d4-f49f-a45aa6d7e446"
      },
      "execution_count": null,
      "outputs": [
        {
          "output_type": "stream",
          "name": "stdout",
          "text": [
            "Number of instances created: 3\n"
          ]
        }
      ]
    },
    {
      "cell_type": "markdown",
      "source": [
        "15. Implement a static method in a class that checks if a given year is a leap year"
      ],
      "metadata": {
        "id": "uXAgmgg1rQrg"
      }
    },
    {
      "cell_type": "code",
      "source": [
        "class YearChecker:\n",
        "    @staticmethod\n",
        "    def is_leap_year(year):\n",
        "        if (year % 4 == 0 and year % 100 != 0) or (year % 400 == 0):\n",
        "            return True\n",
        "        return False"
      ],
      "metadata": {
        "id": "LxmMTSqqrLDs"
      },
      "execution_count": null,
      "outputs": []
    },
    {
      "cell_type": "code",
      "source": [
        "year = 2024\n",
        "if YearChecker.is_leap_year(year):\n",
        "    print(f\"{year} is a leap year.\")\n",
        "else:\n",
        "    print(f\"{year} is not a leap year.\")\n"
      ],
      "metadata": {
        "colab": {
          "base_uri": "https://localhost:8080/"
        },
        "id": "R3MEEgJsrWuW",
        "outputId": "409010c1-c3db-4f69-9bc6-a5db924d80f1"
      },
      "execution_count": null,
      "outputs": [
        {
          "output_type": "stream",
          "name": "stdout",
          "text": [
            "2024 is a leap year.\n"
          ]
        }
      ]
    },
    {
      "cell_type": "code",
      "source": [],
      "metadata": {
        "id": "Djh77As5raLR"
      },
      "execution_count": null,
      "outputs": []
    }
  ]
}